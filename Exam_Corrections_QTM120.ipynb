{
  "nbformat": 4,
  "nbformat_minor": 0,
  "metadata": {
    "colab": {
      "name": "Exam Corrections QTM120",
      "version": "0.3.2",
      "provenance": [],
      "include_colab_link": true
    },
    "kernelspec": {
      "name": "python3",
      "display_name": "Python 3"
    }
  },
  "cells": [
    {
      "cell_type": "markdown",
      "metadata": {
        "id": "view-in-github",
        "colab_type": "text"
      },
      "source": [
        "[View in Colaboratory](https://colab.research.google.com/github/ssorini/QTM120/blob/master/Exam_Corrections_QTM120.ipynb)"
      ]
    },
    {
      "metadata": {
        "id": "IuPytVliUbqN",
        "colab_type": "text"
      },
      "cell_type": "markdown",
      "source": [
        "#Exam 1\n",
        "\n",
        "## Question 15\n",
        "\n",
        "The height of a hill (in feet) is given by\n",
        "\n",
        "$$h(x,y) = 25(14-5x^2-5y^2+3xy+27x-15y)$$\n",
        "\n",
        "where x is the distance (in miles) east and y is the distance (in miles) north of your cabin. If you are at a point on the hill 1 mile north and 1 mile east of your cabin, what is the rate of change of the height of the hill (a) in a northerly direction and (b) in an easterly direction?\n",
        "\n",
        "First take the partial derivatives with respect to x and y respectively\n",
        "\n",
        "$$hx=25(-10x+3y+27) \\\\ hy=25(-10y+3x-15)$$\n",
        "\n",
        "Then plug in the quardinates (1,1) corresponding to the problem\n",
        "\n",
        "$$hx(1)=25(-10+3+27) \\\\ hx(1)=500\\\\hy(1)=25(-10+3-15)\\\\hy(1)=-550$$\n",
        "\n",
        "\n",
        "Therefore in the northernly direction, the rate of change is -550 and the rate of change in the easternly direction is 500."
      ]
    }
  ]
}