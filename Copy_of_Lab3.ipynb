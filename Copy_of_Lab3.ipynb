{
  "nbformat": 4,
  "nbformat_minor": 0,
  "metadata": {
    "colab": {
      "name": "Copy of Lab3.ipynb",
      "version": "0.3.2",
      "provenance": [],
      "private_outputs": true,
      "collapsed_sections": [],
      "include_colab_link": true
    },
    "kernelspec": {
      "name": "python3",
      "display_name": "Python 3"
    },
    "accelerator": "GPU"
  },
  "cells": [
    {
      "cell_type": "markdown",
      "metadata": {
        "id": "view-in-github",
        "colab_type": "text"
      },
      "source": [
        "[View in Colaboratory](https://colab.research.google.com/github/ssorini/QTM120/blob/master/Copy_of_Lab3.ipynb)"
      ]
    },
    {
      "metadata": {
        "id": "1229VONQ1fBr",
        "colab_type": "text"
      },
      "cell_type": "markdown",
      "source": [
        "# QTM 120: Lab 3\n",
        "In this lab, we focus on solving systems of linear equations. As before, we will be using the NumPy package, so we import it first with the alias `np` as this is the convention and is more convenient than writing numpy repeatedly. I will also show how to do the same computation in Tensorflow."
      ]
    },
    {
      "metadata": {
        "id": "Kar9bIcx2wJu",
        "colab_type": "code",
        "colab": {}
      },
      "cell_type": "code",
      "source": [
        "import numpy as np\n",
        "import tensorflow as tf"
      ],
      "execution_count": 0,
      "outputs": []
    },
    {
      "metadata": {
        "id": "hp2rprjl25dB",
        "colab_type": "text"
      },
      "cell_type": "markdown",
      "source": [
        "## Example 1\n",
        "Let's solve the system \n",
        "$$3 x_0 + x_1 = 9\\\\ x_0 + 2 x_1 = 8$$\n",
        "That is, we will solve $$A\\vec{x}=b$$ where $$A=\\begin{bmatrix} \n",
        "3 & 1 \\\\\n",
        "1 & 2 \n",
        "\\end{bmatrix}, \\vec{x} = \\begin{bmatrix}x_0\\\\x_1\\end{bmatrix},  b=\\begin{bmatrix} \n",
        "9  \\\\\n",
        "8  \n",
        "\\end{bmatrix}$$\n"
      ]
    },
    {
      "metadata": {
        "id": "uDOGR8S52uaS",
        "colab_type": "code",
        "colab": {}
      },
      "cell_type": "code",
      "source": [
        "A = np.array([[3,1], [1,2]])\n",
        "b = np.array([9,8])\n",
        "x = np.linalg.solve(A, b)\n",
        "x"
      ],
      "execution_count": 0,
      "outputs": []
    },
    {
      "metadata": {
        "id": "ECPDEnDC23y9",
        "colab_type": "text"
      },
      "cell_type": "markdown",
      "source": [
        "We see that the answer is $x_0=2$ and $x_1= 3$, that is $$\\vec{x} = \\begin{bmatrix}x_0 \\\\ x_1 \\end{bmatrix}=\\begin{bmatrix}2 \\\\ 3 \\end{bmatrix}$$\n",
        "\n",
        "Next, let's look at adding and substracting vectors. \n",
        "\n",
        "### Addition\n",
        "<img src=\"https://www.python-course.eu/images/vector_addition.png\" alt=\"sum\">\n",
        "\n",
        "### Subtraction\n",
        "<img src=\"https://www.python-course.eu/images/vector_subtraction.png\" alt=\"sum\">\n",
        "## Example 2\n",
        "Let's make the following computations. \n",
        "$$ \\begin{bmatrix}3\\\\2\\end{bmatrix} + \\begin{bmatrix}5\\\\1\\end{bmatrix}=\\begin{bmatrix}8\\\\3\\end{bmatrix}$$\n",
        " \n",
        "$$ \\begin{bmatrix}3\\\\2\\end{bmatrix} - \\begin{bmatrix}5\\\\1\\end{bmatrix}=\\begin{bmatrix}-2\\\\1\\end{bmatrix}$$\n",
        "\n",
        "$$  3\\begin{bmatrix}3\\\\2\\end{bmatrix} =  \\begin{bmatrix}9\\\\6\\end{bmatrix}$$"
      ]
    },
    {
      "metadata": {
        "id": "eFv1CnBVrsuy",
        "colab_type": "code",
        "colab": {}
      },
      "cell_type": "code",
      "source": [
        "x = np.array([3,2])\n",
        "y = np.array([5,1])\n",
        "z = x + y\n",
        "w = x-y\n",
        "\n",
        "print(z)\n",
        "print(w)\n",
        "print(3*x)"
      ],
      "execution_count": 0,
      "outputs": []
    },
    {
      "metadata": {
        "id": "QoGFSFiDK3Rv",
        "colab_type": "text"
      },
      "cell_type": "markdown",
      "source": [
        "# TensorFlow\n",
        "\n",
        "> \"An open source machine learning framework for everyone\"\n",
        "\n",
        "Tensorflow is a popular and state of the art package for machine learning.\n",
        " It is built on top of Python, so it is relatively easy to pick up once you are familiar with NumPy. You can read more about it at <https://www.tensorflow.org/>\n",
        "\n",
        "## Solving Linear equations in TensorFlow\n",
        "\n",
        "### Example 1 revisited (Tensorflow)\n",
        "We will again solve $$Ax=b$$ where $$A=\\begin{bmatrix} \n",
        "3 & 1 \\\\\n",
        "1 & 2 \n",
        "\\end{bmatrix}, x = \\begin{bmatrix}x_0\\\\x_1\\end{bmatrix},  b=\\begin{bmatrix} \n",
        "9  \\\\\n",
        "8  \n",
        "\\end{bmatrix}$$\n"
      ]
    },
    {
      "metadata": {
        "id": "ROhl-MMuM1dK",
        "colab_type": "code",
        "colab": {}
      },
      "cell_type": "code",
      "source": [
        "import tensorflow as tf\n",
        "\n",
        "A = tf.constant([\n",
        "    [3.0, 1.0],\n",
        "    [1.0, 2.0]\n",
        "])\n",
        "\n",
        "b = tf.constant([[9.0], [8.0]])\n"
      ],
      "execution_count": 0,
      "outputs": []
    },
    {
      "metadata": {
        "id": "9zCAdadMRWRj",
        "colab_type": "text"
      },
      "cell_type": "markdown",
      "source": [
        "We then use `tf.matrix_solve` to find our solutions $\\vec{x}$. Running this in a session, we get two values, "
      ]
    },
    {
      "metadata": {
        "id": "lGwnLvwzR9d9",
        "colab_type": "code",
        "colab": {}
      },
      "cell_type": "code",
      "source": [
        "X = tf.matrix_solve(A, b)\n",
        "\n",
        "with tf.Session() as session:\n",
        "    result = session.run(X)\n",
        "    x_0, x_1 = result.flatten()\n",
        "\n",
        "print(result)\n",
        "\n",
        "#if you want to print the solution in a more readable manner uncomment the line below\n",
        "#print(\"Solution: x_0 = {x_0} and x_1 = {x_1}\".format(**locals()))"
      ],
      "execution_count": 0,
      "outputs": []
    },
    {
      "metadata": {
        "id": "zAwT6ke3sxAZ",
        "colab_type": "text"
      },
      "cell_type": "markdown",
      "source": [
        "## Speed?\n",
        "Highlights from\n",
        "<https://simplyml.com/linear-algebra-shootout-numpy-vs-theano-vs-tensorflow-2/>\n",
        "\n",
        "> An essential part of any scientific software application is the ability to run quickly.  In particular, we look at the dot product, matrix addition and some elementwise matrix operations. The operations are tested for NumPy, Theano and Tensorflow, of which the latter two can make use of fast Graphics Processing Units (GPUs) for incredible speed increases."
      ]
    },
    {
      "metadata": {
        "id": "7EqBh0mDt0QU",
        "colab_type": "text"
      },
      "cell_type": "markdown",
      "source": [
        "## So, what about using GPU's for solving linear systems?\n",
        "To enable GPU in Colaboratory, simply click `Runtime` above, select `change Runtime type` and then select GPU for hardware accelerator.\n",
        "\n",
        "In the code below, I tried using the GPU to see if we could speed up solving linear systems. \n",
        "\n",
        "Below, we create a matrix of size $10,000\\times 10,000$ having random entries, and a random vector $b$. The variable $i$ below controls the size if you want to experiment. \n",
        "\n",
        "On GPU, $i=10000$, Numpy recorded 23 seconds, tf 33 seconds. Without GPU enabled, the times were 27 seconds for Numpy and 30 seconds for tf.\n",
        "\n",
        "I tried a third method using matrix inversion, in case inverting matrices was faster on GPU, but it was slower at 54 seconds with GPU enabled! For the same computation, GPU enabled, recall NumPy finished in 23 seconds.\n",
        "\n",
        "## What is going on?\n",
        "It seems that the current implementation of `tf.matrix_solve` is not written to take advantage of the GPU. We will try this again next week with Eigenvalue problems. \n",
        "\n"
      ]
    },
    {
      "metadata": {
        "id": "UKperVxo3vAE",
        "colab_type": "code",
        "colab": {}
      },
      "cell_type": "code",
      "source": [
        "i = 10000\n",
        "A = np.random.rand(i, i)\n",
        "b = np.random.rand(i, 1)"
      ],
      "execution_count": 0,
      "outputs": []
    },
    {
      "metadata": {
        "id": "9ecKe5kSI8_m",
        "colab_type": "code",
        "colab": {}
      },
      "cell_type": "code",
      "source": [
        "%%timeit\n",
        "\n",
        "np.linalg.solve(A,b)"
      ],
      "execution_count": 0,
      "outputs": []
    },
    {
      "metadata": {
        "id": "88Z_HJlzneYv",
        "colab_type": "code",
        "colab": {}
      },
      "cell_type": "code",
      "source": [
        "%%timeit\n",
        "\n",
        "sess = tf.Session()\n",
        "result = tf.matrix_solve(tf.convert_to_tensor(A, dtype=tf.float32), tf.convert_to_tensor(b, dtype=tf.float32))\n",
        "sess.run(result)\n",
        "sess.close()\n"
      ],
      "execution_count": 0,
      "outputs": []
    },
    {
      "metadata": {
        "id": "U5livWbN_nev",
        "colab_type": "text"
      },
      "cell_type": "markdown",
      "source": [
        "Below we try an alternate method of first finding the inverse of $A$, then multiplying the inverse by $b$ to find the solution \n",
        "$$\\vec{x} = A^{-1}b$$"
      ]
    },
    {
      "metadata": {
        "id": "lrhgys8R-h01",
        "colab_type": "code",
        "colab": {}
      },
      "cell_type": "code",
      "source": [
        "%%timeit\n",
        "\n",
        "sess = tf.Session()\n",
        "inverse = tf.matrix_inverse(tf.constant(A))\n",
        "sess.run(tf.matmul(inverse, tf.constant(b)))\n",
        "sess.close()\n"
      ],
      "execution_count": 0,
      "outputs": []
    },
    {
      "metadata": {
        "id": "78yX43AhZGh5",
        "colab_type": "text"
      },
      "cell_type": "markdown",
      "source": [
        "#Lab 3 Submission"
      ]
    },
    {
      "metadata": {
        "id": "2Wtjk_YNaJL7",
        "colab_type": "text"
      },
      "cell_type": "markdown",
      "source": [
        "##1.2 #33\n",
        "\n",
        "Solve\n",
        "$$ a_0 + a_1 (1) +  a_2 (1)^2 = 12\\\\ a_0 + a_1 (2) + a_2 (2)^2 = 15\\\\  a_0 + a_1 (3) + a_2 (3)^2 = 16$$\n",
        "That is, we will solve $$A\\vec{x}=b$$ where $$A=\\begin{bmatrix} \n",
        "1 & 1 & 1 \\\\\n",
        "1 & 2 &4 \\\\\n",
        "1 & 3 & 9\n",
        "\\end{bmatrix}, \\vec{x} = \\begin{bmatrix}a_0\\\\a_1\\\\a_2\\end{bmatrix},  b=\\begin{bmatrix} \n",
        "12  \\\\\n",
        "15  \\\\\n",
        "16\n",
        "\\end{bmatrix}$$\n"
      ]
    },
    {
      "metadata": {
        "id": "B5M9vHs5ZQPj",
        "colab_type": "code",
        "colab": {}
      },
      "cell_type": "code",
      "source": [
        "A = np.array([[1,1,1], [1,2,4], [1,3,9]])\n",
        "b = np.array([12,15,16])\n",
        "x = np.linalg.solve(A, b)\n",
        "x"
      ],
      "execution_count": 0,
      "outputs": []
    },
    {
      "metadata": {
        "id": "RrnA-SI7dftZ",
        "colab_type": "text"
      },
      "cell_type": "markdown",
      "source": [
        "##1.3 #1\n",
        "\n",
        "\n",
        "Compute u + v and u - 2v where\n",
        "\n",
        "$$ u=\\begin{bmatrix} \n",
        "-1  \\\\\n",
        "2  \n",
        "\\end{bmatrix}$$\n",
        "\n",
        "$$ v=\\begin{bmatrix}\n",
        "-3\\\\\n",
        "-1\n",
        "\\end{bmatrix}$$"
      ]
    },
    {
      "metadata": {
        "id": "p7o7UVKrfUE3",
        "colab_type": "code",
        "colab": {}
      },
      "cell_type": "code",
      "source": [
        "u = np.array([-1,2])\n",
        "v = np.array([-3,-1])\n",
        "\n",
        "print(u+v)\n",
        "print(u-2*v)"
      ],
      "execution_count": 0,
      "outputs": []
    }
  ]
}