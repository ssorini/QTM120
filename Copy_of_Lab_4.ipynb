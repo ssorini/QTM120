{
  "nbformat": 4,
  "nbformat_minor": 0,
  "metadata": {
    "colab": {
      "name": "Copy of Lab 4.ipynb",
      "version": "0.3.2",
      "provenance": [],
      "collapsed_sections": [],
      "include_colab_link": true
    },
    "kernelspec": {
      "name": "python3",
      "display_name": "Python 3"
    }
  },
  "cells": [
    {
      "cell_type": "markdown",
      "metadata": {
        "id": "view-in-github",
        "colab_type": "text"
      },
      "source": [
        "[View in Colaboratory](https://colab.research.google.com/github/ssorini/QTM120/blob/master/Copy_of_Lab_4.ipynb)"
      ]
    },
    {
      "metadata": {
        "id": "U9i2Dsh-ziXr",
        "colab_type": "text"
      },
      "cell_type": "markdown",
      "source": [
        "# Lab 4\n",
        "The aim of this lab is to show you how to solve the linear regression problems in $\\S6.6$ from HW 3 using TensorFlow!\n",
        "\n",
        "This lab is based around a series of [notebooks](https://github.com/tensorflow/tensorflow/tree/master/tensorflow/contrib/eager/python/examples/notebooks) provided by Google engineers that explain the basics of using the latest verions of Tensorflow.\n",
        "\n",
        "I have modified them in order to explain to you how the core ideas in Machine learning and AI are based upon the fundamental topics of QTM 120, namely:\n",
        "* multivariable functions and gradient vectors\n",
        "* matrix multiplication and linear transformations\n",
        "* linear regression and least squares (this is generalized in machine learning to neural networks and loss functions)\n",
        "\n",
        "\n",
        "# An introduction to TensorFlow\n",
        "\n",
        "We start with an introductory tutorial on using TensorFlow. It will cover:\n",
        "\n",
        "* Importing required packages\n",
        "* Creating and using Tensors"
      ]
    },
    {
      "metadata": {
        "id": "z1JcS5iBXMRO",
        "colab_type": "text"
      },
      "cell_type": "markdown",
      "source": [
        "## Import TensorFlow\n",
        "\n",
        "To get started, import the `tensorflow` module and enable eager execution.\n",
        "Eager execution enables a more interactive frontend to TensorFlow, the details of which we will discuss much later."
      ]
    },
    {
      "metadata": {
        "id": "RlIWhyeLoYnG",
        "colab_type": "code",
        "colab": {
          "base_uri": "https://localhost:8080/",
          "height": 327
        },
        "outputId": "9f71c96a-8bca-4278-ee3c-0714fcbe761b"
      },
      "cell_type": "code",
      "source": [
        "import tensorflow as tf\n",
        "\n",
        "tfe = tf.contrib.eager # Shorthand for some symbols\n",
        "\n",
        "tf.enable_eager_execution()"
      ],
      "execution_count": 2,
      "outputs": [
        {
          "output_type": "error",
          "ename": "ValueError",
          "evalue": "ignored",
          "traceback": [
            "\u001b[0;31m---------------------------------------------------------------------------\u001b[0m",
            "\u001b[0;31mValueError\u001b[0m                                Traceback (most recent call last)",
            "\u001b[0;32m<ipython-input-2-f74082e40b67>\u001b[0m in \u001b[0;36m<module>\u001b[0;34m()\u001b[0m\n\u001b[1;32m      3\u001b[0m \u001b[0mtfe\u001b[0m \u001b[0;34m=\u001b[0m \u001b[0mtf\u001b[0m\u001b[0;34m.\u001b[0m\u001b[0mcontrib\u001b[0m\u001b[0;34m.\u001b[0m\u001b[0meager\u001b[0m \u001b[0;31m# Shorthand for some symbols\u001b[0m\u001b[0;34m\u001b[0m\u001b[0m\n\u001b[1;32m      4\u001b[0m \u001b[0;34m\u001b[0m\u001b[0m\n\u001b[0;32m----> 5\u001b[0;31m \u001b[0mtf\u001b[0m\u001b[0;34m.\u001b[0m\u001b[0menable_eager_execution\u001b[0m\u001b[0;34m(\u001b[0m\u001b[0;34m)\u001b[0m\u001b[0;34m\u001b[0m\u001b[0m\n\u001b[0m",
            "\u001b[0;32m/usr/local/lib/python3.6/dist-packages/tensorflow/python/framework/ops.py\u001b[0m in \u001b[0;36menable_eager_execution\u001b[0;34m(config, device_policy, execution_mode)\u001b[0m\n\u001b[1;32m   5488\u001b[0m   \u001b[0;32melse\u001b[0m\u001b[0;34m:\u001b[0m\u001b[0;34m\u001b[0m\u001b[0m\n\u001b[1;32m   5489\u001b[0m     raise ValueError(\n\u001b[0;32m-> 5490\u001b[0;31m         \"tf.enable_eager_execution must be called at program startup.\")\n\u001b[0m\u001b[1;32m   5491\u001b[0m \u001b[0;34m\u001b[0m\u001b[0m\n\u001b[1;32m   5492\u001b[0m   \u001b[0;31m# Monkey patch to get rid of an unnecessary conditional since the context is\u001b[0m\u001b[0;34m\u001b[0m\u001b[0;34m\u001b[0m\u001b[0m\n",
            "\u001b[0;31mValueError\u001b[0m: tf.enable_eager_execution must be called at program startup."
          ]
        }
      ]
    },
    {
      "metadata": {
        "id": "H9UySOPLXdaw",
        "colab_type": "text"
      },
      "cell_type": "markdown",
      "source": [
        "## What is an array? \n",
        "\n",
        "In NumPy, an array, more precisely, an `ndarray`, is a like a list, except that the type of objects stored in it is constrained by requiring they all be of the same numeric type, e.g. all integers, or all real numbers (the *data type*).\n",
        "\n",
        "Why not say matrix instead of saying array?\n",
        "\n",
        "A matrix may be stored on a computer as an array, but an array need not be a matrix. This is why we have different terminology when using a computer versus using just doing math. An array is more general and is one of many ways of structuring data on a computer.\n",
        "\n",
        "For instance, a matrix\n",
        "$$ \\begin{bmatrix} 1\\ 2 \\\\ 3\\  4 \\end{bmatrix}$$\n",
        "may be thought of in terms of rows and columns, whereas an array need not be. This matrix could be stored in an array as a nested list of rows like\n",
        "$[[1 , 2], [3, 4] ]$\n",
        "or as a nested list of columns $[[1 , 3], [2 , 4]]$ or as a list of entries $[1, 2, 3, 4]$ read from left to right, through all the rows from top to bottom. This determines the *shape* of the array. For more details on these intricacies in structuring data see [Memory layout of multi-dimensional arrays](https://eli.thegreenplace.net/2015/memory-layout-of-multi-dimensional-arrays).\n",
        "\n",
        "## What is a tensor?\n",
        "In TensorFlow, a *Tensor* is a multi-dimensional array. What does \"multi-dimensional\" mean? A vector is a one-dimensional array and a matrix a two-dimensional array. Now, think of a matrix where in each entry you find not a number, but a vector in $\\mathbb{R}^3$. That is an example of a three-dimensional array.\n",
        "\n",
        "A tensor's `shape` is a d-tuple where d is the number of dimensions and inside the tuple one finds the size for each dimension.  For example, viewing a 3 x 4 matrix as a tensor, it would have `shape` $[3 \\ 4]$. Consider these examples given in the code cell below."
      ]
    },
    {
      "metadata": {
        "id": "X_ugNluS2PFR",
        "colab_type": "code",
        "colab": {
          "base_uri": "https://localhost:8080/",
          "height": 88
        },
        "outputId": "04e373b4-4448-4904-c871-4eba3531d65e"
      },
      "cell_type": "code",
      "source": [
        "A = [[1 , 2], [3 , 4]]\n",
        "t = [[[1, 1, 1], [2, 2, 2]], [[3, 3, 3], [4, 4, 4]]]\n",
        "\n",
        "print(\"dimension of A equals {}\".format(tf.rank(A)))  #3 tells you it is two dimensional\n",
        "print(\"dimension of t equals {}\".format(tf.rank(t)))  #3 tells you it is three dimensional\n",
        "print(\"shape of A equals {}\".format(tf.shape(A)))\n",
        "print(\"shape of t equals {}\".format(tf.shape(t)))\n",
        "\n"
      ],
      "execution_count": 3,
      "outputs": [
        {
          "output_type": "stream",
          "text": [
            "dimension of A equals 2\n",
            "dimension of t equals 3\n",
            "shape of A equals [2 2]\n",
            "shape of t equals [2 2 3]\n"
          ],
          "name": "stdout"
        }
      ]
    },
    {
      "metadata": {
        "id": "gqf_YST62ODv",
        "colab_type": "text"
      },
      "cell_type": "markdown",
      "source": [
        "\n",
        "Additionally, Tensors can reside in accelerator (like GPU) memory. TensorFlow offers a rich library of operations ([tf.add](https://www.tensorflow.org/api_docs/python/tf/add), [tf.matmul](https://www.tensorflow.org/api_docs/python/tf/matmul), [tf.linalg.inv](https://www.tensorflow.org/api_docs/python/tf/linalg/inv) etc.) that consume and produce Tensors. These operations automatically convert native Python types. For example:\n"
      ]
    },
    {
      "metadata": {
        "id": "ngUe237Wt48W",
        "colab_type": "code",
        "colab": {
          "base_uri": "https://localhost:8080/",
          "height": 124
        },
        "outputId": "daa0e4a5-e5ee-4bf9-f2bb-68aa6b48ab1d"
      },
      "cell_type": "code",
      "source": [
        "print(tf.add(1, 2))\n",
        "print(tf.add([1, 2], [3, 4]))\n",
        "print(tf.square(5))\n",
        "print(tf.reduce_sum([1, 2, 3]))\n",
        "print(tf.encode_base64(\"hello world\"))\n",
        "\n",
        "# Operator overloading is also supported\n",
        "print(tf.square(2) + tf.square(3))"
      ],
      "execution_count": 4,
      "outputs": [
        {
          "output_type": "stream",
          "text": [
            "tf.Tensor(3, shape=(), dtype=int32)\n",
            "tf.Tensor([4 6], shape=(2,), dtype=int32)\n",
            "tf.Tensor(25, shape=(), dtype=int32)\n",
            "tf.Tensor(6, shape=(), dtype=int32)\n",
            "tf.Tensor(b'aGVsbG8gd29ybGQ', shape=(), dtype=string)\n",
            "tf.Tensor(13, shape=(), dtype=int32)\n"
          ],
          "name": "stdout"
        }
      ]
    },
    {
      "metadata": {
        "id": "IDY4WsYRhP81",
        "colab_type": "text"
      },
      "cell_type": "markdown",
      "source": [
        "Each Tensor has a shape and a datatype"
      ]
    },
    {
      "metadata": {
        "id": "srYWH1MdJNG7",
        "colab_type": "code",
        "colab": {
          "base_uri": "https://localhost:8080/",
          "height": 52
        },
        "outputId": "5eb4f8ab-ebac-43ae-f3b6-92b06ed80d98"
      },
      "cell_type": "code",
      "source": [
        "x = tf.matmul([[1]], [[2, 3]])\n",
        "print(x.shape)\n",
        "print(x.dtype)"
      ],
      "execution_count": 5,
      "outputs": [
        {
          "output_type": "stream",
          "text": [
            "(1, 2)\n",
            "<dtype: 'int32'>\n"
          ],
          "name": "stdout"
        }
      ]
    },
    {
      "metadata": {
        "id": "eBPw8e8vrsom",
        "colab_type": "text"
      },
      "cell_type": "markdown",
      "source": [
        "The most obvious differences between NumPy arrays and TensorFlow Tensors are:\n",
        "\n",
        "1. Tensors can be backed by accelerator memory (like GPU, TPU).\n",
        "2. Tensors are immutable."
      ]
    },
    {
      "metadata": {
        "id": "Dwi1tdW3JBw6",
        "colab_type": "text"
      },
      "cell_type": "markdown",
      "source": [
        "### NumPy Compatibility\n",
        "\n",
        "Conversion between TensorFlow Tensors and NumPy ndarrays is quite simple as:\n",
        "* TensorFlow operations automatically convert NumPy ndarrays to Tensors.\n",
        "* NumPy operations automatically convert Tensors to NumPy ndarrays.\n",
        "\n",
        "Tensors can be explicitly converted to NumPy ndarrays by invoking the `.numpy()` method on them.\n",
        "These conversions are typically cheap as the array and Tensor share the underlying memory representation if possible. However, sharing the underlying representation isn't always possible since the Tensor may be hosted in GPU memory while NumPy arrays are always backed by host memory, and the conversion will thus involve a copy from GPU to host memory."
      ]
    },
    {
      "metadata": {
        "id": "lCUWzso6mbqR",
        "colab_type": "code",
        "colab": {
          "base_uri": "https://localhost:8080/",
          "height": 248
        },
        "outputId": "15dc458c-d3b6-46fb-83c5-8c19e887366d"
      },
      "cell_type": "code",
      "source": [
        "import numpy as np\n",
        "\n",
        "ndarray = np.ones([3, 3])\n",
        "\n",
        "print(\"TensorFlow operations convert numpy arrays to Tensors automatically\")\n",
        "tensor = tf.multiply(ndarray, 42)\n",
        "print(tensor)\n",
        "\n",
        "\n",
        "print(\"And NumPy operations convert Tensors to numpy arrays automatically\")\n",
        "print(np.add(tensor, 1))\n",
        "\n",
        "print(\"The .numpy() method explicitly converts a Tensor to a numpy array\")\n",
        "print(tensor.numpy())"
      ],
      "execution_count": 6,
      "outputs": [
        {
          "output_type": "stream",
          "text": [
            "TensorFlow operations convert numpy arrays to Tensors automatically\n",
            "tf.Tensor(\n",
            "[[42. 42. 42.]\n",
            " [42. 42. 42.]\n",
            " [42. 42. 42.]], shape=(3, 3), dtype=float64)\n",
            "And NumPy operations convert Tensors to numpy arrays automatically\n",
            "[[43. 43. 43.]\n",
            " [43. 43. 43.]\n",
            " [43. 43. 43.]]\n",
            "The .numpy() method explicitly converts a Tensor to a numpy array\n",
            "[[42. 42. 42.]\n",
            " [42. 42. 42.]\n",
            " [42. 42. 42.]]\n"
          ],
          "name": "stdout"
        }
      ]
    },
    {
      "metadata": {
        "id": "YEOJTNiOvnpQ",
        "colab_type": "text"
      },
      "cell_type": "markdown",
      "source": [
        "## Next Steps\n",
        "\n",
        "We covered the most fundamental concepts in TensorFlow - `Tensor`s and operations. Next we will cover automatic differentiation - a building block required for training many machine learning models like neural networks.\n",
        "## Derivatives of a function\n",
        "\n",
        "TensorFlow provides APIs for automatic differentiation - computing the derivative of a function. The way that more closely mimics the math is to encapsulate the computation in a Python function, say `f`, and use `tfe.gradients_function` to create a function that computes the derivatives of `f` with respect to its arguments. If you're familiar with [autograd](https://github.com/HIPS/autograd) for differentiating numpy functions, this will be familiar. For example: "
      ]
    },
    {
      "metadata": {
        "id": "mGOgq0v28gDp",
        "colab_type": "code",
        "colab": {
          "base_uri": "https://localhost:8080/",
          "height": 52
        },
        "outputId": "969c9b61-1618-4f24-f405-ae60bd613a22"
      },
      "cell_type": "code",
      "source": [
        "from math import pi\n",
        "\n",
        "def f(x):\n",
        "  return tf.square(tf.sin(x))\n",
        "\n",
        "# Compute gradient of f\n",
        "grad_f = tfe.gradients_function(f)\n",
        "\n",
        "# gradients_function will return the gradient vector of f as\n",
        "# a list with a single element. We append [0] to\n",
        "# the end in order to obtain the first item in that list\n",
        "print(grad_f(pi/2)[0]) \n",
        "\n",
        "# check that gradient equals what we expect\n",
        "print(2*tf.sin(pi/2)*tf.cos(pi/2))"
      ],
      "execution_count": 7,
      "outputs": [
        {
          "output_type": "stream",
          "text": [
            "tf.Tensor(-8.742278e-08, shape=(), dtype=float32)\n",
            "tf.Tensor(-8.742278e-08, shape=(), dtype=float32)\n"
          ],
          "name": "stdout"
        }
      ]
    },
    {
      "metadata": {
        "id": "-5XGZC5H8zcX",
        "colab_type": "text"
      },
      "cell_type": "markdown",
      "source": [
        "### Higher-order gradients\n",
        "\n",
        "The same API can be used to differentiate as many times as you like:\n"
      ]
    },
    {
      "metadata": {
        "id": "iRRGWTM280zH",
        "colab_type": "code",
        "colab": {
          "base_uri": "https://localhost:8080/",
          "height": 347
        },
        "outputId": "2f66e925-0bdb-4d04-e411-a6a1b6e25256"
      },
      "cell_type": "code",
      "source": [
        "def f(x):\n",
        "  return tf.square(tf.sin(x))\n",
        "\n",
        "def grad(f):\n",
        "  return lambda x: tfe.gradients_function(f)(x)[0]\n",
        "\n",
        "x = tf.lin_space(-2*pi, 2*pi, 100)  # 100 points between -2π and +2π\n",
        "\n",
        "import matplotlib.pyplot as plt\n",
        "\n",
        "plt.plot(x, f(x), label=\"f\")\n",
        "plt.plot(x, grad(f)(x), label=\"first derivative\")\n",
        "plt.plot(x, grad(grad(f))(x), label=\"second derivative\")\n",
        "plt.plot(x, grad(grad(grad(f)))(x), label=\"third derivative\")\n",
        "plt.legend()\n",
        "plt.show()"
      ],
      "execution_count": 8,
      "outputs": [
        {
          "output_type": "display_data",
          "data": {
            "image/png": "[encoded data removed]",
            "text/plain": [
              "<matplotlib.figure.Figure at 0x7f2fbba05be0>"
            ]
          },
          "metadata": {
            "tags": []
          }
        }
      ]
    },
    {
      "metadata": {
        "id": "uMx3iniVOh03",
        "colab_type": "text"
      },
      "cell_type": "markdown",
      "source": [
        "## Gradient tapes\n",
        "\n",
        "Every differentiable TensorFlow operation has an associated gradient function. For example, the gradient function of `tf.square(x)` would be a function that returns $x^2$.  To compute the gradient of a user-defined function (like `f(x)` in the example above), TensorFlow first \"records\" all the operations applied to compute the output of the function. We call this record a \"tape\". It then uses that tape and the gradients functions associated with each primitive operation to compute the gradients of the user-defined function using [reverse mode differentiation](https://en.wikipedia.org/wiki/Automatic_differentiation).\n",
        "\n",
        "Since operations are recorded as they are executed, Python control flow (using `if`s and `while`s for example) is naturally handled:\n"
      ]
    },
    {
      "metadata": {
        "id": "UQ9iUkFxOlJP",
        "colab_type": "code",
        "colab": {
          "base_uri": "https://localhost:8080/",
          "height": 878
        },
        "outputId": "9e09827a-1c80-4e3e-b814-be61e9c7e248"
      },
      "cell_type": "code",
      "source": [
        "def f(x, y):\n",
        "  output = 1\n",
        "  for i in range(y):\n",
        "    output = tf.multiply(output, x)\n",
        "  return output\n",
        "\n",
        "def g(x, y):\n",
        "  # Return the gradient of `f` with respect to it's first parameter\n",
        "  return tfe.gradients_function(f)(x, y)[0]\n",
        "\n",
        "print(f(3.0, 2).numpy() == 9.0)   # f(x, 2) is x * x\n",
        "print(g(3.0, 2).numpy() == 6.0)   # And its gradient will be 2 * x\n",
        "print(f(4.0, 3).numpy() == 64.0)  # f(x, 3) is x * x * x\n",
        "print(g(4.0, 3).numpy() == 48.0)  # And its gradient will be 3 * x * x"
      ],
      "execution_count": 9,
      "outputs": [
        {
          "output_type": "stream",
          "text": [
            "True\n"
          ],
          "name": "stdout"
        },
        {
          "output_type": "error",
          "ename": "TypeError",
          "evalue": "ignored",
          "traceback": [
            "\u001b[0;31m---------------------------------------------------------------------------\u001b[0m",
            "\u001b[0;31mTypeError\u001b[0m                                 Traceback (most recent call last)",
            "\u001b[0;32m<ipython-input-9-08e89c4c02ae>\u001b[0m in \u001b[0;36m<module>\u001b[0;34m()\u001b[0m\n\u001b[1;32m     10\u001b[0m \u001b[0;34m\u001b[0m\u001b[0m\n\u001b[1;32m     11\u001b[0m \u001b[0mprint\u001b[0m\u001b[0;34m(\u001b[0m\u001b[0mf\u001b[0m\u001b[0;34m(\u001b[0m\u001b[0;36m3.0\u001b[0m\u001b[0;34m,\u001b[0m \u001b[0;36m2\u001b[0m\u001b[0;34m)\u001b[0m\u001b[0;34m.\u001b[0m\u001b[0mnumpy\u001b[0m\u001b[0;34m(\u001b[0m\u001b[0;34m)\u001b[0m \u001b[0;34m==\u001b[0m \u001b[0;36m9.0\u001b[0m\u001b[0;34m)\u001b[0m   \u001b[0;31m# f(x, 2) is x * x\u001b[0m\u001b[0;34m\u001b[0m\u001b[0m\n\u001b[0;32m---> 12\u001b[0;31m \u001b[0mprint\u001b[0m\u001b[0;34m(\u001b[0m\u001b[0mg\u001b[0m\u001b[0;34m(\u001b[0m\u001b[0;36m3.0\u001b[0m\u001b[0;34m,\u001b[0m \u001b[0;36m2\u001b[0m\u001b[0;34m)\u001b[0m\u001b[0;34m.\u001b[0m\u001b[0mnumpy\u001b[0m\u001b[0;34m(\u001b[0m\u001b[0;34m)\u001b[0m \u001b[0;34m==\u001b[0m \u001b[0;36m6.0\u001b[0m\u001b[0;34m)\u001b[0m   \u001b[0;31m# And its gradient will be 2 * x\u001b[0m\u001b[0;34m\u001b[0m\u001b[0m\n\u001b[0m\u001b[1;32m     13\u001b[0m \u001b[0mprint\u001b[0m\u001b[0;34m(\u001b[0m\u001b[0mf\u001b[0m\u001b[0;34m(\u001b[0m\u001b[0;36m4.0\u001b[0m\u001b[0;34m,\u001b[0m \u001b[0;36m3\u001b[0m\u001b[0;34m)\u001b[0m\u001b[0;34m.\u001b[0m\u001b[0mnumpy\u001b[0m\u001b[0;34m(\u001b[0m\u001b[0;34m)\u001b[0m \u001b[0;34m==\u001b[0m \u001b[0;36m64.0\u001b[0m\u001b[0;34m)\u001b[0m  \u001b[0;31m# f(x, 3) is x * x * x\u001b[0m\u001b[0;34m\u001b[0m\u001b[0m\n\u001b[1;32m     14\u001b[0m \u001b[0mprint\u001b[0m\u001b[0;34m(\u001b[0m\u001b[0mg\u001b[0m\u001b[0;34m(\u001b[0m\u001b[0;36m4.0\u001b[0m\u001b[0;34m,\u001b[0m \u001b[0;36m3\u001b[0m\u001b[0;34m)\u001b[0m\u001b[0;34m.\u001b[0m\u001b[0mnumpy\u001b[0m\u001b[0;34m(\u001b[0m\u001b[0;34m)\u001b[0m \u001b[0;34m==\u001b[0m \u001b[0;36m48.0\u001b[0m\u001b[0;34m)\u001b[0m  \u001b[0;31m# And its gradient will be 3 * x * x\u001b[0m\u001b[0;34m\u001b[0m\u001b[0m\n",
            "\u001b[0;32m<ipython-input-9-08e89c4c02ae>\u001b[0m in \u001b[0;36mg\u001b[0;34m(x, y)\u001b[0m\n\u001b[1;32m      7\u001b[0m \u001b[0;32mdef\u001b[0m \u001b[0mg\u001b[0m\u001b[0;34m(\u001b[0m\u001b[0mx\u001b[0m\u001b[0;34m,\u001b[0m \u001b[0my\u001b[0m\u001b[0;34m)\u001b[0m\u001b[0;34m:\u001b[0m\u001b[0;34m\u001b[0m\u001b[0m\n\u001b[1;32m      8\u001b[0m   \u001b[0;31m# Return the gradient of `f` with respect to it's first parameter\u001b[0m\u001b[0;34m\u001b[0m\u001b[0;34m\u001b[0m\u001b[0m\n\u001b[0;32m----> 9\u001b[0;31m   \u001b[0;32mreturn\u001b[0m \u001b[0mtfe\u001b[0m\u001b[0;34m.\u001b[0m\u001b[0mgradients_function\u001b[0m\u001b[0;34m(\u001b[0m\u001b[0mf\u001b[0m\u001b[0;34m)\u001b[0m\u001b[0;34m(\u001b[0m\u001b[0mx\u001b[0m\u001b[0;34m,\u001b[0m \u001b[0my\u001b[0m\u001b[0;34m)\u001b[0m\u001b[0;34m[\u001b[0m\u001b[0;36m0\u001b[0m\u001b[0;34m]\u001b[0m\u001b[0;34m\u001b[0m\u001b[0m\n\u001b[0m\u001b[1;32m     10\u001b[0m \u001b[0;34m\u001b[0m\u001b[0m\n\u001b[1;32m     11\u001b[0m \u001b[0mprint\u001b[0m\u001b[0;34m(\u001b[0m\u001b[0mf\u001b[0m\u001b[0;34m(\u001b[0m\u001b[0;36m3.0\u001b[0m\u001b[0;34m,\u001b[0m \u001b[0;36m2\u001b[0m\u001b[0;34m)\u001b[0m\u001b[0;34m.\u001b[0m\u001b[0mnumpy\u001b[0m\u001b[0;34m(\u001b[0m\u001b[0;34m)\u001b[0m \u001b[0;34m==\u001b[0m \u001b[0;36m9.0\u001b[0m\u001b[0;34m)\u001b[0m   \u001b[0;31m# f(x, 2) is x * x\u001b[0m\u001b[0;34m\u001b[0m\u001b[0m\n",
            "\u001b[0;32m/usr/local/lib/python3.6/dist-packages/tensorflow/python/eager/backprop.py\u001b[0m in \u001b[0;36mdecorated\u001b[0;34m(*args, **kwds)\u001b[0m\n\u001b[1;32m    367\u001b[0m     \u001b[0;34m\"\"\"Computes the gradient of the decorated function.\"\"\"\u001b[0m\u001b[0;34m\u001b[0m\u001b[0m\n\u001b[1;32m    368\u001b[0m \u001b[0;34m\u001b[0m\u001b[0m\n\u001b[0;32m--> 369\u001b[0;31m     \u001b[0m_\u001b[0m\u001b[0;34m,\u001b[0m \u001b[0mgrad\u001b[0m \u001b[0;34m=\u001b[0m \u001b[0mval_and_grad_function\u001b[0m\u001b[0;34m(\u001b[0m\u001b[0mf\u001b[0m\u001b[0;34m,\u001b[0m \u001b[0mparams\u001b[0m\u001b[0;34m=\u001b[0m\u001b[0mparams\u001b[0m\u001b[0;34m)\u001b[0m\u001b[0;34m(\u001b[0m\u001b[0;34m*\u001b[0m\u001b[0margs\u001b[0m\u001b[0;34m,\u001b[0m \u001b[0;34m**\u001b[0m\u001b[0mkwds\u001b[0m\u001b[0;34m)\u001b[0m\u001b[0;34m\u001b[0m\u001b[0m\n\u001b[0m\u001b[1;32m    370\u001b[0m     \u001b[0;32mreturn\u001b[0m \u001b[0mgrad\u001b[0m\u001b[0;34m\u001b[0m\u001b[0m\n\u001b[1;32m    371\u001b[0m \u001b[0;34m\u001b[0m\u001b[0m\n",
            "\u001b[0;32m/usr/local/lib/python3.6/dist-packages/tensorflow/python/eager/backprop.py\u001b[0m in \u001b[0;36mdecorated\u001b[0;34m(*args, **kwds)\u001b[0m\n\u001b[1;32m    466\u001b[0m       raise ValueError(\"Functions to be differentiated cannot \"\n\u001b[1;32m    467\u001b[0m                        \"receive keyword arguments.\")\n\u001b[0;32m--> 468\u001b[0;31m     \u001b[0mval\u001b[0m\u001b[0;34m,\u001b[0m \u001b[0mvjp\u001b[0m \u001b[0;34m=\u001b[0m \u001b[0mmake_vjp\u001b[0m\u001b[0;34m(\u001b[0m\u001b[0mf\u001b[0m\u001b[0;34m,\u001b[0m \u001b[0mparams\u001b[0m\u001b[0;34m)\u001b[0m\u001b[0;34m(\u001b[0m\u001b[0;34m*\u001b[0m\u001b[0margs\u001b[0m\u001b[0;34m,\u001b[0m \u001b[0;34m**\u001b[0m\u001b[0mkwds\u001b[0m\u001b[0;34m)\u001b[0m\u001b[0;34m\u001b[0m\u001b[0m\n\u001b[0m\u001b[1;32m    469\u001b[0m     \u001b[0;32mreturn\u001b[0m \u001b[0mval\u001b[0m\u001b[0;34m,\u001b[0m \u001b[0mvjp\u001b[0m\u001b[0;34m(\u001b[0m\u001b[0mdy\u001b[0m\u001b[0;34m=\u001b[0m\u001b[0mdy\u001b[0m\u001b[0;34m)\u001b[0m\u001b[0;34m\u001b[0m\u001b[0m\n\u001b[1;32m    470\u001b[0m \u001b[0;34m\u001b[0m\u001b[0m\n",
            "\u001b[0;32m/usr/local/lib/python3.6/dist-packages/tensorflow/python/eager/backprop.py\u001b[0m in \u001b[0;36mdecorated\u001b[0;34m(*args, **kwds)\u001b[0m\n\u001b[1;32m    522\u001b[0m         \u001b[0msources\u001b[0m\u001b[0;34m.\u001b[0m\u001b[0mappend\u001b[0m\u001b[0;34m(\u001b[0m\u001b[0margs\u001b[0m\u001b[0;34m[\u001b[0m\u001b[0mi\u001b[0m\u001b[0;34m]\u001b[0m\u001b[0;34m)\u001b[0m\u001b[0;34m\u001b[0m\u001b[0m\n\u001b[1;32m    523\u001b[0m         \u001b[0mtape\u001b[0m\u001b[0;34m.\u001b[0m\u001b[0mwatch\u001b[0m\u001b[0;34m(\u001b[0m\u001b[0margs\u001b[0m\u001b[0;34m[\u001b[0m\u001b[0mi\u001b[0m\u001b[0;34m]\u001b[0m\u001b[0;34m)\u001b[0m\u001b[0;34m\u001b[0m\u001b[0m\n\u001b[0;32m--> 524\u001b[0;31m       \u001b[0mresult\u001b[0m \u001b[0;34m=\u001b[0m \u001b[0mf\u001b[0m\u001b[0;34m(\u001b[0m\u001b[0;34m*\u001b[0m\u001b[0margs\u001b[0m\u001b[0;34m)\u001b[0m\u001b[0;34m\u001b[0m\u001b[0m\n\u001b[0m\u001b[1;32m    525\u001b[0m       \u001b[0;32mif\u001b[0m \u001b[0mresult\u001b[0m \u001b[0;32mis\u001b[0m \u001b[0;32mNone\u001b[0m\u001b[0;34m:\u001b[0m\u001b[0;34m\u001b[0m\u001b[0m\n\u001b[1;32m    526\u001b[0m         raise ValueError(\"Cannot differentiate a function that returns None; \"\n",
            "\u001b[0;32m<ipython-input-9-08e89c4c02ae>\u001b[0m in \u001b[0;36mf\u001b[0;34m(x, y)\u001b[0m\n\u001b[1;32m      1\u001b[0m \u001b[0;32mdef\u001b[0m \u001b[0mf\u001b[0m\u001b[0;34m(\u001b[0m\u001b[0mx\u001b[0m\u001b[0;34m,\u001b[0m \u001b[0my\u001b[0m\u001b[0;34m)\u001b[0m\u001b[0;34m:\u001b[0m\u001b[0;34m\u001b[0m\u001b[0m\n\u001b[1;32m      2\u001b[0m   \u001b[0moutput\u001b[0m \u001b[0;34m=\u001b[0m \u001b[0;36m1\u001b[0m\u001b[0;34m\u001b[0m\u001b[0m\n\u001b[0;32m----> 3\u001b[0;31m   \u001b[0;32mfor\u001b[0m \u001b[0mi\u001b[0m \u001b[0;32min\u001b[0m \u001b[0mrange\u001b[0m\u001b[0;34m(\u001b[0m\u001b[0my\u001b[0m\u001b[0;34m)\u001b[0m\u001b[0;34m:\u001b[0m\u001b[0;34m\u001b[0m\u001b[0m\n\u001b[0m\u001b[1;32m      4\u001b[0m     \u001b[0moutput\u001b[0m \u001b[0;34m=\u001b[0m \u001b[0mtf\u001b[0m\u001b[0;34m.\u001b[0m\u001b[0mmultiply\u001b[0m\u001b[0;34m(\u001b[0m\u001b[0moutput\u001b[0m\u001b[0;34m,\u001b[0m \u001b[0mx\u001b[0m\u001b[0;34m)\u001b[0m\u001b[0;34m\u001b[0m\u001b[0m\n\u001b[1;32m      5\u001b[0m   \u001b[0;32mreturn\u001b[0m \u001b[0moutput\u001b[0m\u001b[0;34m\u001b[0m\u001b[0m\n",
            "\u001b[0;31mTypeError\u001b[0m: 'EagerTensor' object cannot be interpreted as an integer"
          ]
        }
      ]
    },
    {
      "metadata": {
        "id": "QOR4Zza2PmwR",
        "colab_type": "text"
      },
      "cell_type": "markdown",
      "source": [
        "At times it may be inconvenient to encapsulate computation of interest into a function. For example, if you want the gradient of the output with respect to intermediate values computed in the function. In such cases, the slightly more verbose but explicit [tf.GradientTape](https://www.tensorflow.org/api_docs/python/tf/GradientTape) context is useful. All computation inside the context of a `tf.GradientTape` is \"recorded\".\n",
        "\n",
        "For example:"
      ]
    },
    {
      "metadata": {
        "id": "a106z7RkPN4q",
        "colab_type": "code",
        "colab": {
          "base_uri": "https://localhost:8080/",
          "height": 35
        },
        "outputId": "dc9f6e62-3125-48ff-bace-e3236b1c2bb0"
      },
      "cell_type": "code",
      "source": [
        "# let x be a 2x2 matrix with every entry the number 1\n",
        "x = tf.ones((2, 2))\n",
        "\n",
        "# Compute the gradient inside the 't' context manager, essentially\n",
        "# z will be the function that takes as input a 2x2\n",
        "# matrix, adds all the entries, then squares the result.\n",
        "with tf.GradientTape(persistent=True) as t:\n",
        "  t.watch(x)\n",
        "  y = tf.reduce_sum(x)\n",
        "  z = tf.multiply(y, y)\n",
        "\n",
        "# Use the same tape to compute the derivative of z with respect to the\n",
        "# intermediate value y.\n",
        "dz_dy = t.gradient(z, y)\n",
        "\n",
        "print(dz_dy.numpy() ==  2*y.numpy())"
      ],
      "execution_count": 10,
      "outputs": [
        {
          "output_type": "stream",
          "text": [
            "True\n"
          ],
          "name": "stdout"
        }
      ]
    },
    {
      "metadata": {
        "id": "AmdmcFdxSNX6",
        "colab_type": "text"
      },
      "cell_type": "markdown",
      "source": [
        "## Next Steps\n",
        "\n",
        "In this tutorial we covered gradient computation in TensorFlow. With that we have enough of the primitives required to build and train a linear regression model.\n",
        "\n",
        "# Training Models\n",
        "\n",
        "In the previous tutorial we covered the TensorFlow APIs for automatic differentiation, a basic building block for machine learning.\n",
        "In this tutorial we will use the TensorFlow primitives introduced in the prior tutorials to do some simple machine learning.\n",
        "\n",
        "TensorFlow also includes a higher-level neural networks API (`tf.keras`) which provides useful abstractions to reduce boilerplate. We strongly recommend those higher level APIs for people working with neural networks. However, in this short tutorial we cover linear regression training from first principles.\n",
        "## Variables\n",
        "\n",
        "Tensors in TensorFlow are immutable stateless objects. Machine learning models, however, need to have changing state: as your model trains, the same code to compute predictions should behave differently over time (hopefully with a lower loss!). To represent this state which needs to change over the course of your computation, you can choose to rely on the fact that Python is a stateful programming language:"
      ]
    },
    {
      "metadata": {
        "id": "7I65OPnsUYYr",
        "colab_type": "code",
        "colab": {
          "base_uri": "https://localhost:8080/",
          "height": 212
        },
        "outputId": "e3511b5d-be75-47c0-ef52-1d3b797938f7"
      },
      "cell_type": "code",
      "source": [
        "# Using python state\n",
        "x = tf.zeros([10, 10])\n",
        "x += 2  # This is equivalent to x = x + 2, which does not mutate the original\n",
        "        # value of x\n",
        "print(x)"
      ],
      "execution_count": 11,
      "outputs": [
        {
          "output_type": "stream",
          "text": [
            "tf.Tensor(\n",
            "[[2. 2. 2. 2. 2. 2. 2. 2. 2. 2.]\n",
            " [2. 2. 2. 2. 2. 2. 2. 2. 2. 2.]\n",
            " [2. 2. 2. 2. 2. 2. 2. 2. 2. 2.]\n",
            " [2. 2. 2. 2. 2. 2. 2. 2. 2. 2.]\n",
            " [2. 2. 2. 2. 2. 2. 2. 2. 2. 2.]\n",
            " [2. 2. 2. 2. 2. 2. 2. 2. 2. 2.]\n",
            " [2. 2. 2. 2. 2. 2. 2. 2. 2. 2.]\n",
            " [2. 2. 2. 2. 2. 2. 2. 2. 2. 2.]\n",
            " [2. 2. 2. 2. 2. 2. 2. 2. 2. 2.]\n",
            " [2. 2. 2. 2. 2. 2. 2. 2. 2. 2.]], shape=(10, 10), dtype=float32)\n"
          ],
          "name": "stdout"
        }
      ]
    },
    {
      "metadata": {
        "id": "Gdv3R-PSUc5V",
        "colab_type": "text"
      },
      "cell_type": "markdown",
      "source": [
        "TensorFlow, however, has stateful operations built in, and these are often more pleasant to use than low-level Python representations of your state. To represent weights in a model, for example, it's often convenient and efficient to use TensorFlow variables.\n",
        "\n",
        "A Variable is an object which stores a value and, when used in a TensorFlow computation, will implicitly read from this stored value. There are operations (`tf.assign_sub`, `tf.scatter_update`, etc) which manipulate the value stored in a TensorFlow variable."
      ]
    },
    {
      "metadata": {
        "id": "BK7_uuuSUfEp",
        "colab_type": "code",
        "colab": {
          "base_uri": "https://localhost:8080/",
          "height": 70
        },
        "outputId": "37f76b69-8638-43b9-9888-aa4000d241e5"
      },
      "cell_type": "code",
      "source": [
        "v = tfe.Variable(1.0)\n",
        "print(v.numpy() == 1.0)\n",
        "\n",
        "# Re-assign the value\n",
        "v.assign(3.0)\n",
        "print(v.numpy() == 3.0)\n",
        "\n",
        "# Use `v` in a TensorFlow operation like tf.square() and reassign\n",
        "v.assign(tf.square(v))\n",
        "print(v.numpy() == 9.0)"
      ],
      "execution_count": 12,
      "outputs": [
        {
          "output_type": "stream",
          "text": [
            "True\n",
            "True\n",
            "True\n"
          ],
          "name": "stdout"
        }
      ]
    },
    {
      "metadata": {
        "id": "HDuZeAdhUowk",
        "colab_type": "text"
      },
      "cell_type": "markdown",
      "source": [
        "Computations using Variables are automatically traced when computing gradients. \n",
        "Using Variables is also a way to quickly let a reader of your code know that this piece of state is mutable.\n",
        "\n",
        "## Example: Fitting a linear model\n",
        "\n",
        "Let's now put the few concepts we have so far ---`Tensor`, `GradientTape`, `Variable` --- to build and train a simple model. This typically involves a few steps:\n",
        "\n",
        "1. Define the model.\n",
        "2. Define a loss function.\n",
        "3. Obtain training data.\n",
        "4. Run through the training data and use an \"optimizer\" to adjust the variables to fit the data.\n",
        "\n",
        "In this tutorial, we'll walk through a trivial example of a simple linear model: `f(x) = x * W + b`, which has two variables - `W` and `b`. Furthermore, we'll synthesize data such that a well trained model would have `W = 3.0` and `b = 2.0`.\n",
        "\n",
        "### Define the model\n",
        "\n",
        "Let's define a simple class to encapsulate the variables and the computation."
      ]
    },
    {
      "metadata": {
        "id": "7pbvp1AXU1e8",
        "colab_type": "code",
        "colab": {}
      },
      "cell_type": "code",
      "source": [
        "class LinearModel(object):\n",
        "  def __init__(self):\n",
        "    # Initialize variable to (5.0, 0.0)\n",
        "    # In practice, these should be initialized to random values.\n",
        "    self.W = tfe.Variable(5.0)\n",
        "    self.b = tfe.Variable(0.0)\n",
        "    \n",
        "  def __call__(self, x):\n",
        "    return self.W * x + self.b"
      ],
      "execution_count": 0,
      "outputs": []
    },
    {
      "metadata": {
        "id": "rje38Cov46vA",
        "colab_type": "text"
      },
      "cell_type": "markdown",
      "source": [
        "Next we instantiate a new linear model which we denote by `Y`, note, according to the definition of the class, we are working with the linear model $$Y = Wx+b$$. Looking at the class definition, the default values for `W` and `b` are 5 and 0 respectively, so `Y = 5*x` initially. Indeed, in the code below we find that $$Y(3.0)=15.0$$"
      ]
    },
    {
      "metadata": {
        "id": "4R2YpUlc46JQ",
        "colab_type": "code",
        "colab": {
          "base_uri": "https://localhost:8080/",
          "height": 35
        },
        "outputId": "8df41f63-e045-418d-f653-a7ba272ccd98"
      },
      "cell_type": "code",
      "source": [
        "Y = LinearModel() \n",
        "\n",
        "print(Y(3.0).numpy() == 15.0) # "
      ],
      "execution_count": 14,
      "outputs": [
        {
          "output_type": "stream",
          "text": [
            "True\n"
          ],
          "name": "stdout"
        }
      ]
    },
    {
      "metadata": {
        "id": "3kKHpPJVVbUM",
        "colab_type": "text"
      },
      "cell_type": "markdown",
      "source": [
        "### Define a loss function\n",
        "\n",
        "A loss function measures how well the output of a model for a given input matches the desired output. Let's use the standard 'least squares' loss, namely the sum of squares of the differences between the predicted value $Y(x_i)$ for each input $x_i$ and the actual value $y_i$  $$(Y(x_1)-y_1)^2+(Y(x_2)-y_2)^2+\\cdots+(Y(x_n)-y_n)^2$$\n",
        "This is also called LSE which is short least-squares-error."
      ]
    },
    {
      "metadata": {
        "id": "7jXA3Pe0VeVF",
        "colab_type": "code",
        "colab": {}
      },
      "cell_type": "code",
      "source": [
        "def LSE(predicted_y, desired_y):\n",
        "  return tf.reduce_sum(tf.square(predicted_y - desired_y))\n",
        "\n",
        "def MSE(predicted_y, desired_y):\n",
        "  return tf.reduce_mean(tf.square(predicted_y - desired_y))"
      ],
      "execution_count": 0,
      "outputs": []
    },
    {
      "metadata": {
        "id": "QdHfvDT1VmdS",
        "colab_type": "text"
      },
      "cell_type": "markdown",
      "source": [
        "### Obtain training data\n",
        "\n",
        "Let's record the training data. If the data is $$x_1=0,\\\\ x_2=1,\\\\ x_3=2,\\\\ x_4=3\\\\ \\text{and} \\\\y_1=1,\\\\ y_2 = 1,\\\\ y_3 = 2,\\\\ y_4 =2$$\n",
        "then we use the code below to record this."
      ]
    },
    {
      "metadata": {
        "id": "bQzpBlL4Voxs",
        "colab_type": "code",
        "colab": {}
      },
      "cell_type": "code",
      "source": [
        "inputs  = [0, 1, 2, 3]\n",
        "outputs = [1, 1, 2, 2]"
      ],
      "execution_count": 0,
      "outputs": []
    },
    {
      "metadata": {
        "id": "QAZGywDLVtHY",
        "colab_type": "text"
      },
      "cell_type": "markdown",
      "source": [
        "Before we train the model let's visualize where the model stands right now. We'll plot the model's predictions in red and the training data in blue."
      ]
    },
    {
      "metadata": {
        "id": "oq7RM_NBVw6_",
        "colab_type": "code",
        "colab": {
          "base_uri": "https://localhost:8080/",
          "height": 550
        },
        "outputId": "8fb598b6-faa8-45d9-c601-1d226be5b10b"
      },
      "cell_type": "code",
      "source": [
        "import matplotlib.pyplot as plt\n",
        "\n",
        "plt.scatter(inputs, outputs, color='b')\n",
        "plt.scatter(inputs, Y(inputs), color='r')\n",
        "plt.show()\n",
        "\n",
        "print('Current loss: '),\n",
        "print(loss(Y(inputs), outputs).numpy())"
      ],
      "execution_count": 17,
      "outputs": [
        {
          "output_type": "display_data",
          "data": {
            "image/png": "[encoded data removed]",
            "text/plain": [
              "<matplotlib.figure.Figure at 0x7f2fb586e2b0>"
            ]
          },
          "metadata": {
            "tags": []
          }
        },
        {
          "output_type": "stream",
          "text": [
            "Current loss: \n"
          ],
          "name": "stdout"
        },
        {
          "output_type": "error",
          "ename": "NameError",
          "evalue": "ignored",
          "traceback": [
            "\u001b[0;31m---------------------------------------------------------------------------\u001b[0m",
            "\u001b[0;31mNameError\u001b[0m                                 Traceback (most recent call last)",
            "\u001b[0;32m<ipython-input-17-101a9e34daa0>\u001b[0m in \u001b[0;36m<module>\u001b[0;34m()\u001b[0m\n\u001b[1;32m      6\u001b[0m \u001b[0;34m\u001b[0m\u001b[0m\n\u001b[1;32m      7\u001b[0m \u001b[0mprint\u001b[0m\u001b[0;34m(\u001b[0m\u001b[0;34m'Current loss: '\u001b[0m\u001b[0;34m)\u001b[0m\u001b[0;34m,\u001b[0m\u001b[0;34m\u001b[0m\u001b[0m\n\u001b[0;32m----> 8\u001b[0;31m \u001b[0mprint\u001b[0m\u001b[0;34m(\u001b[0m\u001b[0mloss\u001b[0m\u001b[0;34m(\u001b[0m\u001b[0mY\u001b[0m\u001b[0;34m(\u001b[0m\u001b[0minputs\u001b[0m\u001b[0;34m)\u001b[0m\u001b[0;34m,\u001b[0m \u001b[0moutputs\u001b[0m\u001b[0;34m)\u001b[0m\u001b[0;34m.\u001b[0m\u001b[0mnumpy\u001b[0m\u001b[0;34m(\u001b[0m\u001b[0;34m)\u001b[0m\u001b[0;34m)\u001b[0m\u001b[0;34m\u001b[0m\u001b[0m\n\u001b[0m",
            "\u001b[0;31mNameError\u001b[0m: name 'loss' is not defined"
          ]
        }
      ]
    },
    {
      "metadata": {
        "id": "_7xB-IrTV8RW",
        "colab_type": "text"
      },
      "cell_type": "markdown",
      "source": [
        "### Define a training loop\n",
        "\n",
        "We now have our network and our training data. Let's train it, i.e., use the training data to update the model's variables (`W` and `b`) so that the loss goes down using [gradient descent](https://en.wikipedia.org/wiki/Gradient_descent). There are many variants of the gradient descent scheme that are captured in `tf.train.Optimizer` implementations. We'd highly recommend using those implementations, but in the spirit of building from first principles, in this particular example we will implement the basic math ourselves.\n",
        "\n",
        "Below, `assign_sub` is short for \"subtract from the original then assign the result\". Also, `dW` and `db` are the component of the gradient vector of the loss of the differences."
      ]
    },
    {
      "metadata": {
        "id": "4JN2ZF8FWiFN",
        "colab_type": "code",
        "colab": {}
      },
      "cell_type": "code",
      "source": [
        "def train(Y, inputs, outputs, learning_rate):\n",
        "  with tf.GradientTape() as t:\n",
        "    current_loss = LSE(Y(inputs), outputs)\n",
        "  dW, db = t.gradient(current_loss, [Y.W, Y.b])\n",
        "  Y.W.assign_sub(learning_rate * dW)\n",
        "  Y.b.assign_sub(learning_rate * db)"
      ],
      "execution_count": 0,
      "outputs": []
    },
    {
      "metadata": {
        "id": "otKHaf-OgWNI",
        "colab_type": "code",
        "colab": {
          "base_uri": "https://localhost:8080/",
          "height": 2124
        },
        "outputId": "b76af5cc-a453-4846-d754-3e78ea173efb"
      },
      "cell_type": "code",
      "source": [
        "TRUE_W = 0.4\n",
        "TRUE_b = 0.9\n",
        "\n",
        "# Collect the history of W-values and b-values to plot later\n",
        "Ws, bs = [], []\n",
        "epochs = range(100)\n",
        "for epoch in epochs:\n",
        "  Ws.append(Y.W.numpy())\n",
        "  bs.append(Y.b.numpy())\n",
        "  current_MSE = MSE(Y(inputs), outputs)\n",
        "\n",
        "  train(Y, inputs, outputs, learning_rate=0.01)\n",
        "  print('Epoch %2d: W=%1.2f b=%1.2f, loss=%2.5f' %\n",
        "        (epoch, Ws[-1], bs[-1], current_MSE))\n",
        "\n",
        "# Let's plot it all\n",
        "plt.plot(epochs, Ws, 'r',\n",
        "         epochs, bs, 'b')\n",
        "plt.plot([TRUE_W] * len(epochs), 'r--',\n",
        "         [TRUE_b] * len(epochs), 'b--')\n",
        "plt.legend(['W', 'b', 'true W', 'true_b'])\n",
        "plt.show()\n",
        "  "
      ],
      "execution_count": 19,
      "outputs": [
        {
          "output_type": "stream",
          "text": [
            "Epoch  0: W=5.00 b=0.00, loss=62.50000\n",
            "Epoch  1: W=3.82 b=-0.48, loss=28.73301\n",
            "Epoch  2: W=3.03 b=-0.78, loss=13.79963\n",
            "Epoch  3: W=2.49 b=-0.96, loss=7.16737\n",
            "Epoch  4: W=2.13 b=-1.06, loss=4.19524\n",
            "Epoch  5: W=1.88 b=-1.11, loss=2.83820\n",
            "Epoch  6: W=1.71 b=-1.13, loss=2.19503\n",
            "Epoch  7: W=1.59 b=-1.13, loss=1.86854\n",
            "Epoch  8: W=1.50 b=-1.11, loss=1.68361\n",
            "Epoch  9: W=1.43 b=-1.08, loss=1.56299\n",
            "Epoch 10: W=1.38 b=-1.04, loss=1.47254\n",
            "Epoch 11: W=1.34 b=-1.00, loss=1.39714\n",
            "Epoch 12: W=1.30 b=-0.96, loss=1.33004\n",
            "Epoch 13: W=1.27 b=-0.92, loss=1.26820\n",
            "Epoch 14: W=1.25 b=-0.88, loss=1.21019\n",
            "Epoch 15: W=1.22 b=-0.84, loss=1.15531\n",
            "Epoch 16: W=1.20 b=-0.80, loss=1.10319\n",
            "Epoch 17: W=1.18 b=-0.76, loss=1.05361\n",
            "Epoch 18: W=1.16 b=-0.72, loss=1.00639\n",
            "Epoch 19: W=1.14 b=-0.68, loss=0.96140\n",
            "Epoch 20: W=1.13 b=-0.65, loss=0.91854\n",
            "Epoch 21: W=1.11 b=-0.61, loss=0.87769\n",
            "Epoch 22: W=1.09 b=-0.57, loss=0.83877\n",
            "Epoch 23: W=1.07 b=-0.54, loss=0.80168\n",
            "Epoch 24: W=1.06 b=-0.51, loss=0.76633\n",
            "Epoch 25: W=1.04 b=-0.47, loss=0.73265\n",
            "Epoch 26: W=1.03 b=-0.44, loss=0.70055\n",
            "Epoch 27: W=1.01 b=-0.41, loss=0.66996\n",
            "Epoch 28: W=1.00 b=-0.38, loss=0.64080\n",
            "Epoch 29: W=0.98 b=-0.35, loss=0.61302\n",
            "Epoch 30: W=0.97 b=-0.32, loss=0.58655\n",
            "Epoch 31: W=0.96 b=-0.29, loss=0.56132\n",
            "Epoch 32: W=0.94 b=-0.26, loss=0.53727\n",
            "Epoch 33: W=0.93 b=-0.23, loss=0.51436\n",
            "Epoch 34: W=0.92 b=-0.20, loss=0.49252\n",
            "Epoch 35: W=0.91 b=-0.18, loss=0.47171\n",
            "Epoch 36: W=0.89 b=-0.15, loss=0.45188\n",
            "Epoch 37: W=0.88 b=-0.13, loss=0.43298\n",
            "Epoch 38: W=0.87 b=-0.10, loss=0.41498\n",
            "Epoch 39: W=0.86 b=-0.08, loss=0.39781\n",
            "Epoch 40: W=0.85 b=-0.06, loss=0.38146\n",
            "Epoch 41: W=0.84 b=-0.03, loss=0.36587\n",
            "Epoch 42: W=0.83 b=-0.01, loss=0.35102\n",
            "Epoch 43: W=0.82 b=0.01, loss=0.33686\n",
            "Epoch 44: W=0.81 b=0.03, loss=0.32337\n",
            "Epoch 45: W=0.80 b=0.05, loss=0.31052\n",
            "Epoch 46: W=0.79 b=0.07, loss=0.29827\n",
            "Epoch 47: W=0.78 b=0.09, loss=0.28659\n",
            "Epoch 48: W=0.77 b=0.11, loss=0.27547\n",
            "Epoch 49: W=0.76 b=0.13, loss=0.26487\n",
            "Epoch 50: W=0.75 b=0.15, loss=0.25476\n",
            "Epoch 51: W=0.74 b=0.17, loss=0.24513\n",
            "Epoch 52: W=0.74 b=0.18, loss=0.23596\n",
            "Epoch 53: W=0.73 b=0.20, loss=0.22721\n",
            "Epoch 54: W=0.72 b=0.22, loss=0.21888\n",
            "Epoch 55: W=0.71 b=0.23, loss=0.21094\n",
            "Epoch 56: W=0.70 b=0.25, loss=0.20337\n",
            "Epoch 57: W=0.70 b=0.27, loss=0.19616\n",
            "Epoch 58: W=0.69 b=0.28, loss=0.18929\n",
            "Epoch 59: W=0.68 b=0.30, loss=0.18274\n",
            "Epoch 60: W=0.68 b=0.31, loss=0.17649\n",
            "Epoch 61: W=0.67 b=0.32, loss=0.17055\n",
            "Epoch 62: W=0.66 b=0.34, loss=0.16488\n",
            "Epoch 63: W=0.66 b=0.35, loss=0.15948\n",
            "Epoch 64: W=0.65 b=0.36, loss=0.15433\n",
            "Epoch 65: W=0.65 b=0.38, loss=0.14942\n",
            "Epoch 66: W=0.64 b=0.39, loss=0.14475\n",
            "Epoch 67: W=0.63 b=0.40, loss=0.14029\n",
            "Epoch 68: W=0.63 b=0.41, loss=0.13604\n",
            "Epoch 69: W=0.62 b=0.42, loss=0.13200\n",
            "Epoch 70: W=0.62 b=0.44, loss=0.12814\n",
            "Epoch 71: W=0.61 b=0.45, loss=0.12447\n",
            "Epoch 72: W=0.61 b=0.46, loss=0.12097\n",
            "Epoch 73: W=0.60 b=0.47, loss=0.11763\n",
            "Epoch 74: W=0.60 b=0.48, loss=0.11445\n",
            "Epoch 75: W=0.59 b=0.49, loss=0.11142\n",
            "Epoch 76: W=0.59 b=0.50, loss=0.10853\n",
            "Epoch 77: W=0.58 b=0.51, loss=0.10578\n",
            "Epoch 78: W=0.58 b=0.52, loss=0.10316\n",
            "Epoch 79: W=0.58 b=0.53, loss=0.10066\n",
            "Epoch 80: W=0.57 b=0.54, loss=0.09827\n",
            "Epoch 81: W=0.57 b=0.54, loss=0.09600\n",
            "Epoch 82: W=0.56 b=0.55, loss=0.09384\n",
            "Epoch 83: W=0.56 b=0.56, loss=0.09178\n",
            "Epoch 84: W=0.56 b=0.57, loss=0.08981\n",
            "Epoch 85: W=0.55 b=0.58, loss=0.08794\n",
            "Epoch 86: W=0.55 b=0.58, loss=0.08616\n",
            "Epoch 87: W=0.54 b=0.59, loss=0.08446\n",
            "Epoch 88: W=0.54 b=0.60, loss=0.08284\n",
            "Epoch 89: W=0.54 b=0.61, loss=0.08129\n",
            "Epoch 90: W=0.53 b=0.61, loss=0.07982\n",
            "Epoch 91: W=0.53 b=0.62, loss=0.07842\n",
            "Epoch 92: W=0.53 b=0.63, loss=0.07708\n",
            "Epoch 93: W=0.52 b=0.63, loss=0.07581\n",
            "Epoch 94: W=0.52 b=0.64, loss=0.07460\n",
            "Epoch 95: W=0.52 b=0.65, loss=0.07344\n",
            "Epoch 96: W=0.52 b=0.65, loss=0.07234\n",
            "Epoch 97: W=0.51 b=0.66, loss=0.07129\n",
            "Epoch 98: W=0.51 b=0.66, loss=0.07029\n",
            "Epoch 99: W=0.51 b=0.67, loss=0.06933\n"
          ],
          "name": "stdout"
        },
        {
          "output_type": "display_data",
          "data": {
            "image/png": "[encoded data removed]",
            "text/plain": [
              "<matplotlib.figure.Figure at 0x7f2fb500ee10>"
            ]
          },
          "metadata": {
            "tags": []
          }
        }
      ]
    },
    {
      "metadata": {
        "id": "zFtneSyjWmBv",
        "colab_type": "text"
      },
      "cell_type": "markdown",
      "source": [
        "Above, we see how `W` and `b` evolve as we move in the direction of negative the gradient vector of the loss in order to find the values of `W` and `b` that minimize the loss. Correct answer is $W = .4$ and $b = 0.9$ which we see was realized already after 70 iterations (epoch 70). "
      ]
    },
    {
      "metadata": {
        "id": "h-yGhJ5BGR2g",
        "colab_type": "text"
      },
      "cell_type": "markdown",
      "source": [
        "# Solution to HW 3 $\\S 6.6 \\hspace{0.1cm} \\#2$\n",
        "\n",
        "\n",
        "We enter our the $x$ values as input, the $y$ values as output. \n"
      ]
    },
    {
      "metadata": {
        "id": "9smIWdkWHHRe",
        "colab_type": "code",
        "colab": {}
      },
      "cell_type": "code",
      "source": [
        "inputs  = [1, 2, 4, 5]\n",
        "outputs = [0, 1, 2, 3]"
      ],
      "execution_count": 0,
      "outputs": []
    },
    {
      "metadata": {
        "id": "LKa-i_VAHwtJ",
        "colab_type": "text"
      },
      "cell_type": "markdown",
      "source": [
        "Then we construct/instantiate the model."
      ]
    },
    {
      "metadata": {
        "id": "opiDRN_rHsMI",
        "colab_type": "code",
        "colab": {}
      },
      "cell_type": "code",
      "source": [
        "Y = LinearModel() "
      ],
      "execution_count": 0,
      "outputs": []
    },
    {
      "metadata": {
        "id": "Je1JWDKbH5Md",
        "colab_type": "text"
      },
      "cell_type": "markdown",
      "source": [
        "Next we train our model on the data we gave it."
      ]
    },
    {
      "metadata": {
        "id": "Yf4kyz6bH-4M",
        "colab_type": "code",
        "colab": {
          "base_uri": "https://localhost:8080/",
          "height": 3902
        },
        "outputId": "176aae44-71f9-4968-9d1a-6689b87805df"
      },
      "cell_type": "code",
      "source": [
        "# Collect the history of W-values and b-values to plot later\n",
        "Ws, bs = [], []\n",
        "epochs = range(200)\n",
        "for epoch in epochs:\n",
        "  Ws.append(Y.W.numpy())\n",
        "  bs.append(Y.b.numpy())\n",
        "  current_MSE = MSE(Y(inputs), outputs)\n",
        "\n",
        "  train(Y, inputs, outputs, learning_rate=0.01)\n",
        "  print('Epoch %2d: W=%1.2f b=%1.2f, loss=%2.5f' %\n",
        "        (epoch, Ws[-1], bs[-1], current_MSE))\n",
        "\n",
        "# Let's plot it all\n",
        "plt.plot(epochs, Ws, 'r',\n",
        "         epochs, bs, 'b')\n",
        "plt.legend(['W', 'b'])\n",
        "plt.show()"
      ],
      "execution_count": 22,
      "outputs": [
        {
          "output_type": "stream",
          "text": [
            "Epoch  0: W=5.00 b=0.00, loss=228.50000\n",
            "Epoch  1: W=0.90 b=-1.08, loss=0.13940\n",
            "Epoch  2: W=0.83 b=-1.09, loss=0.07725\n",
            "Epoch  3: W=0.83 b=-1.08, loss=0.07555\n",
            "Epoch  4: W=0.83 b=-1.07, loss=0.07392\n",
            "Epoch  5: W=0.82 b=-1.07, loss=0.07234\n",
            "Epoch  6: W=0.82 b=-1.06, loss=0.07081\n",
            "Epoch  7: W=0.82 b=-1.05, loss=0.06933\n",
            "Epoch  8: W=0.82 b=-1.04, loss=0.06790\n",
            "Epoch  9: W=0.82 b=-1.04, loss=0.06652\n",
            "Epoch 10: W=0.81 b=-1.03, loss=0.06518\n",
            "Epoch 11: W=0.81 b=-1.02, loss=0.06388\n",
            "Epoch 12: W=0.81 b=-1.02, loss=0.06263\n",
            "Epoch 13: W=0.81 b=-1.01, loss=0.06141\n",
            "Epoch 14: W=0.81 b=-1.00, loss=0.06024\n",
            "Epoch 15: W=0.81 b=-1.00, loss=0.05910\n",
            "Epoch 16: W=0.80 b=-0.99, loss=0.05800\n",
            "Epoch 17: W=0.80 b=-0.98, loss=0.05694\n",
            "Epoch 18: W=0.80 b=-0.98, loss=0.05591\n",
            "Epoch 19: W=0.80 b=-0.97, loss=0.05491\n",
            "Epoch 20: W=0.80 b=-0.96, loss=0.05394\n",
            "Epoch 21: W=0.80 b=-0.96, loss=0.05301\n",
            "Epoch 22: W=0.79 b=-0.95, loss=0.05211\n",
            "Epoch 23: W=0.79 b=-0.95, loss=0.05123\n",
            "Epoch 24: W=0.79 b=-0.94, loss=0.05039\n",
            "Epoch 25: W=0.79 b=-0.94, loss=0.04957\n",
            "Epoch 26: W=0.79 b=-0.93, loss=0.04877\n",
            "Epoch 27: W=0.79 b=-0.93, loss=0.04801\n",
            "Epoch 28: W=0.78 b=-0.92, loss=0.04726\n",
            "Epoch 29: W=0.78 b=-0.91, loss=0.04655\n",
            "Epoch 30: W=0.78 b=-0.91, loss=0.04585\n",
            "Epoch 31: W=0.78 b=-0.90, loss=0.04518\n",
            "Epoch 32: W=0.78 b=-0.90, loss=0.04453\n",
            "Epoch 33: W=0.78 b=-0.89, loss=0.04390\n",
            "Epoch 34: W=0.78 b=-0.89, loss=0.04329\n",
            "Epoch 35: W=0.78 b=-0.89, loss=0.04270\n",
            "Epoch 36: W=0.77 b=-0.88, loss=0.04213\n",
            "Epoch 37: W=0.77 b=-0.88, loss=0.04157\n",
            "Epoch 38: W=0.77 b=-0.87, loss=0.04104\n",
            "Epoch 39: W=0.77 b=-0.87, loss=0.04052\n",
            "Epoch 40: W=0.77 b=-0.86, loss=0.04002\n",
            "Epoch 41: W=0.77 b=-0.86, loss=0.03954\n",
            "Epoch 42: W=0.77 b=-0.85, loss=0.03907\n",
            "Epoch 43: W=0.77 b=-0.85, loss=0.03861\n",
            "Epoch 44: W=0.77 b=-0.85, loss=0.03817\n",
            "Epoch 45: W=0.76 b=-0.84, loss=0.03775\n",
            "Epoch 46: W=0.76 b=-0.84, loss=0.03734\n",
            "Epoch 47: W=0.76 b=-0.83, loss=0.03694\n",
            "Epoch 48: W=0.76 b=-0.83, loss=0.03655\n",
            "Epoch 49: W=0.76 b=-0.83, loss=0.03618\n",
            "Epoch 50: W=0.76 b=-0.82, loss=0.03582\n",
            "Epoch 51: W=0.76 b=-0.82, loss=0.03547\n",
            "Epoch 52: W=0.76 b=-0.82, loss=0.03513\n",
            "Epoch 53: W=0.76 b=-0.81, loss=0.03481\n",
            "Epoch 54: W=0.76 b=-0.81, loss=0.03449\n",
            "Epoch 55: W=0.75 b=-0.81, loss=0.03418\n",
            "Epoch 56: W=0.75 b=-0.80, loss=0.03389\n",
            "Epoch 57: W=0.75 b=-0.80, loss=0.03360\n",
            "Epoch 58: W=0.75 b=-0.80, loss=0.03332\n",
            "Epoch 59: W=0.75 b=-0.79, loss=0.03306\n",
            "Epoch 60: W=0.75 b=-0.79, loss=0.03280\n",
            "Epoch 61: W=0.75 b=-0.79, loss=0.03254\n",
            "Epoch 62: W=0.75 b=-0.78, loss=0.03230\n",
            "Epoch 63: W=0.75 b=-0.78, loss=0.03206\n",
            "Epoch 64: W=0.75 b=-0.78, loss=0.03184\n",
            "Epoch 65: W=0.75 b=-0.77, loss=0.03162\n",
            "Epoch 66: W=0.75 b=-0.77, loss=0.03140\n",
            "Epoch 67: W=0.74 b=-0.77, loss=0.03120\n",
            "Epoch 68: W=0.74 b=-0.77, loss=0.03100\n",
            "Epoch 69: W=0.74 b=-0.76, loss=0.03080\n",
            "Epoch 70: W=0.74 b=-0.76, loss=0.03062\n",
            "Epoch 71: W=0.74 b=-0.76, loss=0.03043\n",
            "Epoch 72: W=0.74 b=-0.76, loss=0.03026\n",
            "Epoch 73: W=0.74 b=-0.75, loss=0.03009\n",
            "Epoch 74: W=0.74 b=-0.75, loss=0.02993\n",
            "Epoch 75: W=0.74 b=-0.75, loss=0.02977\n",
            "Epoch 76: W=0.74 b=-0.75, loss=0.02961\n",
            "Epoch 77: W=0.74 b=-0.74, loss=0.02946\n",
            "Epoch 78: W=0.74 b=-0.74, loss=0.02932\n",
            "Epoch 79: W=0.74 b=-0.74, loss=0.02918\n",
            "Epoch 80: W=0.74 b=-0.74, loss=0.02905\n",
            "Epoch 81: W=0.74 b=-0.73, loss=0.02891\n",
            "Epoch 82: W=0.74 b=-0.73, loss=0.02879\n",
            "Epoch 83: W=0.73 b=-0.73, loss=0.02867\n",
            "Epoch 84: W=0.73 b=-0.73, loss=0.02855\n",
            "Epoch 85: W=0.73 b=-0.73, loss=0.02843\n",
            "Epoch 86: W=0.73 b=-0.72, loss=0.02832\n",
            "Epoch 87: W=0.73 b=-0.72, loss=0.02822\n",
            "Epoch 88: W=0.73 b=-0.72, loss=0.02811\n",
            "Epoch 89: W=0.73 b=-0.72, loss=0.02801\n",
            "Epoch 90: W=0.73 b=-0.72, loss=0.02791\n",
            "Epoch 91: W=0.73 b=-0.71, loss=0.02782\n",
            "Epoch 92: W=0.73 b=-0.71, loss=0.02773\n",
            "Epoch 93: W=0.73 b=-0.71, loss=0.02764\n",
            "Epoch 94: W=0.73 b=-0.71, loss=0.02756\n",
            "Epoch 95: W=0.73 b=-0.71, loss=0.02747\n",
            "Epoch 96: W=0.73 b=-0.70, loss=0.02739\n",
            "Epoch 97: W=0.73 b=-0.70, loss=0.02732\n",
            "Epoch 98: W=0.73 b=-0.70, loss=0.02724\n",
            "Epoch 99: W=0.73 b=-0.70, loss=0.02717\n",
            "Epoch 100: W=0.73 b=-0.70, loss=0.02710\n",
            "Epoch 101: W=0.73 b=-0.70, loss=0.02703\n",
            "Epoch 102: W=0.73 b=-0.70, loss=0.02697\n",
            "Epoch 103: W=0.72 b=-0.69, loss=0.02690\n",
            "Epoch 104: W=0.72 b=-0.69, loss=0.02684\n",
            "Epoch 105: W=0.72 b=-0.69, loss=0.02678\n",
            "Epoch 106: W=0.72 b=-0.69, loss=0.02672\n",
            "Epoch 107: W=0.72 b=-0.69, loss=0.02667\n",
            "Epoch 108: W=0.72 b=-0.69, loss=0.02661\n",
            "Epoch 109: W=0.72 b=-0.68, loss=0.02656\n",
            "Epoch 110: W=0.72 b=-0.68, loss=0.02651\n",
            "Epoch 111: W=0.72 b=-0.68, loss=0.02646\n",
            "Epoch 112: W=0.72 b=-0.68, loss=0.02642\n",
            "Epoch 113: W=0.72 b=-0.68, loss=0.02637\n",
            "Epoch 114: W=0.72 b=-0.68, loss=0.02633\n",
            "Epoch 115: W=0.72 b=-0.68, loss=0.02628\n",
            "Epoch 116: W=0.72 b=-0.68, loss=0.02624\n",
            "Epoch 117: W=0.72 b=-0.67, loss=0.02620\n",
            "Epoch 118: W=0.72 b=-0.67, loss=0.02616\n",
            "Epoch 119: W=0.72 b=-0.67, loss=0.02613\n",
            "Epoch 120: W=0.72 b=-0.67, loss=0.02609\n",
            "Epoch 121: W=0.72 b=-0.67, loss=0.02605\n",
            "Epoch 122: W=0.72 b=-0.67, loss=0.02602\n",
            "Epoch 123: W=0.72 b=-0.67, loss=0.02599\n",
            "Epoch 124: W=0.72 b=-0.67, loss=0.02596\n",
            "Epoch 125: W=0.72 b=-0.67, loss=0.02592\n",
            "Epoch 126: W=0.72 b=-0.66, loss=0.02589\n",
            "Epoch 127: W=0.72 b=-0.66, loss=0.02587\n",
            "Epoch 128: W=0.72 b=-0.66, loss=0.02584\n",
            "Epoch 129: W=0.72 b=-0.66, loss=0.02581\n",
            "Epoch 130: W=0.72 b=-0.66, loss=0.02578\n",
            "Epoch 131: W=0.72 b=-0.66, loss=0.02576\n",
            "Epoch 132: W=0.72 b=-0.66, loss=0.02574\n",
            "Epoch 133: W=0.72 b=-0.66, loss=0.02571\n",
            "Epoch 134: W=0.71 b=-0.66, loss=0.02569\n",
            "Epoch 135: W=0.71 b=-0.66, loss=0.02567\n",
            "Epoch 136: W=0.71 b=-0.65, loss=0.02564\n",
            "Epoch 137: W=0.71 b=-0.65, loss=0.02562\n",
            "Epoch 138: W=0.71 b=-0.65, loss=0.02560\n",
            "Epoch 139: W=0.71 b=-0.65, loss=0.02558\n",
            "Epoch 140: W=0.71 b=-0.65, loss=0.02557\n",
            "Epoch 141: W=0.71 b=-0.65, loss=0.02555\n",
            "Epoch 142: W=0.71 b=-0.65, loss=0.02553\n",
            "Epoch 143: W=0.71 b=-0.65, loss=0.02551\n",
            "Epoch 144: W=0.71 b=-0.65, loss=0.02550\n",
            "Epoch 145: W=0.71 b=-0.65, loss=0.02548\n",
            "Epoch 146: W=0.71 b=-0.65, loss=0.02546\n",
            "Epoch 147: W=0.71 b=-0.65, loss=0.02545\n",
            "Epoch 148: W=0.71 b=-0.64, loss=0.02543\n",
            "Epoch 149: W=0.71 b=-0.64, loss=0.02542\n",
            "Epoch 150: W=0.71 b=-0.64, loss=0.02541\n",
            "Epoch 151: W=0.71 b=-0.64, loss=0.02539\n",
            "Epoch 152: W=0.71 b=-0.64, loss=0.02538\n",
            "Epoch 153: W=0.71 b=-0.64, loss=0.02537\n",
            "Epoch 154: W=0.71 b=-0.64, loss=0.02536\n",
            "Epoch 155: W=0.71 b=-0.64, loss=0.02535\n",
            "Epoch 156: W=0.71 b=-0.64, loss=0.02533\n",
            "Epoch 157: W=0.71 b=-0.64, loss=0.02532\n",
            "Epoch 158: W=0.71 b=-0.64, loss=0.02531\n",
            "Epoch 159: W=0.71 b=-0.64, loss=0.02530\n",
            "Epoch 160: W=0.71 b=-0.64, loss=0.02529\n",
            "Epoch 161: W=0.71 b=-0.64, loss=0.02528\n",
            "Epoch 162: W=0.71 b=-0.64, loss=0.02527\n",
            "Epoch 163: W=0.71 b=-0.63, loss=0.02527\n",
            "Epoch 164: W=0.71 b=-0.63, loss=0.02526\n",
            "Epoch 165: W=0.71 b=-0.63, loss=0.02525\n",
            "Epoch 166: W=0.71 b=-0.63, loss=0.02524\n",
            "Epoch 167: W=0.71 b=-0.63, loss=0.02523\n",
            "Epoch 168: W=0.71 b=-0.63, loss=0.02523\n",
            "Epoch 169: W=0.71 b=-0.63, loss=0.02522\n",
            "Epoch 170: W=0.71 b=-0.63, loss=0.02521\n",
            "Epoch 171: W=0.71 b=-0.63, loss=0.02520\n",
            "Epoch 172: W=0.71 b=-0.63, loss=0.02520\n",
            "Epoch 173: W=0.71 b=-0.63, loss=0.02519\n",
            "Epoch 174: W=0.71 b=-0.63, loss=0.02519\n",
            "Epoch 175: W=0.71 b=-0.63, loss=0.02518\n",
            "Epoch 176: W=0.71 b=-0.63, loss=0.02517\n",
            "Epoch 177: W=0.71 b=-0.63, loss=0.02517\n",
            "Epoch 178: W=0.71 b=-0.63, loss=0.02516\n",
            "Epoch 179: W=0.71 b=-0.63, loss=0.02516\n",
            "Epoch 180: W=0.71 b=-0.63, loss=0.02515\n",
            "Epoch 181: W=0.71 b=-0.63, loss=0.02515\n",
            "Epoch 182: W=0.71 b=-0.63, loss=0.02514\n",
            "Epoch 183: W=0.71 b=-0.63, loss=0.02514\n",
            "Epoch 184: W=0.71 b=-0.62, loss=0.02513\n",
            "Epoch 185: W=0.71 b=-0.62, loss=0.02513\n",
            "Epoch 186: W=0.71 b=-0.62, loss=0.02513\n",
            "Epoch 187: W=0.71 b=-0.62, loss=0.02512\n",
            "Epoch 188: W=0.71 b=-0.62, loss=0.02512\n",
            "Epoch 189: W=0.71 b=-0.62, loss=0.02511\n",
            "Epoch 190: W=0.71 b=-0.62, loss=0.02511\n",
            "Epoch 191: W=0.71 b=-0.62, loss=0.02511\n",
            "Epoch 192: W=0.71 b=-0.62, loss=0.02510\n",
            "Epoch 193: W=0.71 b=-0.62, loss=0.02510\n",
            "Epoch 194: W=0.71 b=-0.62, loss=0.02510\n",
            "Epoch 195: W=0.71 b=-0.62, loss=0.02509\n",
            "Epoch 196: W=0.71 b=-0.62, loss=0.02509\n",
            "Epoch 197: W=0.71 b=-0.62, loss=0.02509\n",
            "Epoch 198: W=0.71 b=-0.62, loss=0.02508\n",
            "Epoch 199: W=0.71 b=-0.62, loss=0.02508\n"
          ],
          "name": "stdout"
        },
        {
          "output_type": "display_data",
          "data": {
            "image/png": "[encoded data removed]",
            "text/plain": [
              "<matplotlib.figure.Figure at 0x7f2fb500e748>"
            ]
          },
          "metadata": {
            "tags": []
          }
        }
      ]
    },
    {
      "metadata": {
        "id": "j01dHi0EH_OV",
        "colab_type": "text"
      },
      "cell_type": "markdown",
      "source": [
        " Finally we inspect the values of W and b to see if the training converged to the solution.\n",
        " \n",
        " It may be necessary to reconstruct the model and tune the learning rate, the number of epochs, and even the initial \"weights\" for W and b in the model (Class definition) in order to obtain good convergence. \n",
        " \n",
        " For instance, here 100 epochs was not sufficient for convergence. The solution  $$W = 0.7\\\\ b = 0.6$$ was not achieved until epoch 182. \n",
        " \n",
        " How do you know it converged to the solution? Here for instance, try 500 epochs and you will see you get the same result!\n"
      ]
    },
    {
      "metadata": {
        "id": "JjHn-CkxsvKO",
        "colab_type": "text"
      },
      "cell_type": "markdown",
      "source": [
        "#Lab 4 Submission\n",
        "\n",
        "##6.6 # 1\n",
        "\n",
        "Find the equation $$y=B_0+B_1x$$ for the least squares regression line for the data $$(0,1),(1,1),(2,2),(3,2)$$"
      ]
    },
    {
      "metadata": {
        "id": "qy6goiK_tRnq",
        "colab_type": "code",
        "colab": {
          "base_uri": "https://localhost:8080/",
          "height": 3902
        },
        "outputId": "46e938bb-1d43-48df-e029-7f06060fda98"
      },
      "cell_type": "code",
      "source": [
        "inputs  = [0, 1, 2, 3]\n",
        "outputs = [1, 1, 2, 2]\n",
        "\n",
        "Y = LinearModel() \n",
        "\n",
        "# Collect the history of W-values and b-values to plot later\n",
        "Ws, bs = [], []\n",
        "epochs = range(200)\n",
        "for epoch in epochs:\n",
        "  Ws.append(Y.W.numpy())\n",
        "  bs.append(Y.b.numpy())\n",
        "  current_MSE = MSE(Y(inputs), outputs)\n",
        "\n",
        "  train(Y, inputs, outputs, learning_rate=0.01)\n",
        "  print('Epoch %2d: W=%1.2f b=%1.2f, loss=%2.5f' %\n",
        "        (epoch, Ws[-1], bs[-1], current_MSE))\n",
        "\n",
        "# Let's plot it all\n",
        "plt.plot(epochs, Ws, 'r',\n",
        "         epochs, bs, 'b')\n",
        "plt.legend(['W', 'b'])\n",
        "plt.show()"
      ],
      "execution_count": 23,
      "outputs": [
        {
          "output_type": "stream",
          "text": [
            "Epoch  0: W=5.00 b=0.00, loss=62.50000\n",
            "Epoch  1: W=3.82 b=-0.48, loss=28.73301\n",
            "Epoch  2: W=3.03 b=-0.78, loss=13.79963\n",
            "Epoch  3: W=2.49 b=-0.96, loss=7.16737\n",
            "Epoch  4: W=2.13 b=-1.06, loss=4.19524\n",
            "Epoch  5: W=1.88 b=-1.11, loss=2.83820\n",
            "Epoch  6: W=1.71 b=-1.13, loss=2.19503\n",
            "Epoch  7: W=1.59 b=-1.13, loss=1.86854\n",
            "Epoch  8: W=1.50 b=-1.11, loss=1.68361\n",
            "Epoch  9: W=1.43 b=-1.08, loss=1.56299\n",
            "Epoch 10: W=1.38 b=-1.04, loss=1.47254\n",
            "Epoch 11: W=1.34 b=-1.00, loss=1.39714\n",
            "Epoch 12: W=1.30 b=-0.96, loss=1.33004\n",
            "Epoch 13: W=1.27 b=-0.92, loss=1.26820\n",
            "Epoch 14: W=1.25 b=-0.88, loss=1.21019\n",
            "Epoch 15: W=1.22 b=-0.84, loss=1.15531\n",
            "Epoch 16: W=1.20 b=-0.80, loss=1.10319\n",
            "Epoch 17: W=1.18 b=-0.76, loss=1.05361\n",
            "Epoch 18: W=1.16 b=-0.72, loss=1.00639\n",
            "Epoch 19: W=1.14 b=-0.68, loss=0.96140\n",
            "Epoch 20: W=1.13 b=-0.65, loss=0.91854\n",
            "Epoch 21: W=1.11 b=-0.61, loss=0.87769\n",
            "Epoch 22: W=1.09 b=-0.57, loss=0.83877\n",
            "Epoch 23: W=1.07 b=-0.54, loss=0.80168\n",
            "Epoch 24: W=1.06 b=-0.51, loss=0.76633\n",
            "Epoch 25: W=1.04 b=-0.47, loss=0.73265\n",
            "Epoch 26: W=1.03 b=-0.44, loss=0.70055\n",
            "Epoch 27: W=1.01 b=-0.41, loss=0.66996\n",
            "Epoch 28: W=1.00 b=-0.38, loss=0.64080\n",
            "Epoch 29: W=0.98 b=-0.35, loss=0.61302\n",
            "Epoch 30: W=0.97 b=-0.32, loss=0.58655\n",
            "Epoch 31: W=0.96 b=-0.29, loss=0.56132\n",
            "Epoch 32: W=0.94 b=-0.26, loss=0.53727\n",
            "Epoch 33: W=0.93 b=-0.23, loss=0.51436\n",
            "Epoch 34: W=0.92 b=-0.20, loss=0.49252\n",
            "Epoch 35: W=0.91 b=-0.18, loss=0.47171\n",
            "Epoch 36: W=0.89 b=-0.15, loss=0.45188\n",
            "Epoch 37: W=0.88 b=-0.13, loss=0.43298\n",
            "Epoch 38: W=0.87 b=-0.10, loss=0.41498\n",
            "Epoch 39: W=0.86 b=-0.08, loss=0.39781\n",
            "Epoch 40: W=0.85 b=-0.06, loss=0.38146\n",
            "Epoch 41: W=0.84 b=-0.03, loss=0.36587\n",
            "Epoch 42: W=0.83 b=-0.01, loss=0.35102\n",
            "Epoch 43: W=0.82 b=0.01, loss=0.33686\n",
            "Epoch 44: W=0.81 b=0.03, loss=0.32337\n",
            "Epoch 45: W=0.80 b=0.05, loss=0.31052\n",
            "Epoch 46: W=0.79 b=0.07, loss=0.29827\n",
            "Epoch 47: W=0.78 b=0.09, loss=0.28659\n",
            "Epoch 48: W=0.77 b=0.11, loss=0.27547\n",
            "Epoch 49: W=0.76 b=0.13, loss=0.26487\n",
            "Epoch 50: W=0.75 b=0.15, loss=0.25476\n",
            "Epoch 51: W=0.74 b=0.17, loss=0.24513\n",
            "Epoch 52: W=0.74 b=0.18, loss=0.23596\n",
            "Epoch 53: W=0.73 b=0.20, loss=0.22721\n",
            "Epoch 54: W=0.72 b=0.22, loss=0.21888\n",
            "Epoch 55: W=0.71 b=0.23, loss=0.21094\n",
            "Epoch 56: W=0.70 b=0.25, loss=0.20337\n",
            "Epoch 57: W=0.70 b=0.27, loss=0.19616\n",
            "Epoch 58: W=0.69 b=0.28, loss=0.18929\n",
            "Epoch 59: W=0.68 b=0.30, loss=0.18274\n",
            "Epoch 60: W=0.68 b=0.31, loss=0.17649\n",
            "Epoch 61: W=0.67 b=0.32, loss=0.17055\n",
            "Epoch 62: W=0.66 b=0.34, loss=0.16488\n",
            "Epoch 63: W=0.66 b=0.35, loss=0.15948\n",
            "Epoch 64: W=0.65 b=0.36, loss=0.15433\n",
            "Epoch 65: W=0.65 b=0.38, loss=0.14942\n",
            "Epoch 66: W=0.64 b=0.39, loss=0.14475\n",
            "Epoch 67: W=0.63 b=0.40, loss=0.14029\n",
            "Epoch 68: W=0.63 b=0.41, loss=0.13604\n",
            "Epoch 69: W=0.62 b=0.42, loss=0.13200\n",
            "Epoch 70: W=0.62 b=0.44, loss=0.12814\n",
            "Epoch 71: W=0.61 b=0.45, loss=0.12447\n",
            "Epoch 72: W=0.61 b=0.46, loss=0.12097\n",
            "Epoch 73: W=0.60 b=0.47, loss=0.11763\n",
            "Epoch 74: W=0.60 b=0.48, loss=0.11445\n",
            "Epoch 75: W=0.59 b=0.49, loss=0.11142\n",
            "Epoch 76: W=0.59 b=0.50, loss=0.10853\n",
            "Epoch 77: W=0.58 b=0.51, loss=0.10578\n",
            "Epoch 78: W=0.58 b=0.52, loss=0.10316\n",
            "Epoch 79: W=0.58 b=0.53, loss=0.10066\n",
            "Epoch 80: W=0.57 b=0.54, loss=0.09827\n",
            "Epoch 81: W=0.57 b=0.54, loss=0.09600\n",
            "Epoch 82: W=0.56 b=0.55, loss=0.09384\n",
            "Epoch 83: W=0.56 b=0.56, loss=0.09178\n",
            "Epoch 84: W=0.56 b=0.57, loss=0.08981\n",
            "Epoch 85: W=0.55 b=0.58, loss=0.08794\n",
            "Epoch 86: W=0.55 b=0.58, loss=0.08616\n",
            "Epoch 87: W=0.54 b=0.59, loss=0.08446\n",
            "Epoch 88: W=0.54 b=0.60, loss=0.08284\n",
            "Epoch 89: W=0.54 b=0.61, loss=0.08129\n",
            "Epoch 90: W=0.53 b=0.61, loss=0.07982\n",
            "Epoch 91: W=0.53 b=0.62, loss=0.07842\n",
            "Epoch 92: W=0.53 b=0.63, loss=0.07708\n",
            "Epoch 93: W=0.52 b=0.63, loss=0.07581\n",
            "Epoch 94: W=0.52 b=0.64, loss=0.07460\n",
            "Epoch 95: W=0.52 b=0.65, loss=0.07344\n",
            "Epoch 96: W=0.52 b=0.65, loss=0.07234\n",
            "Epoch 97: W=0.51 b=0.66, loss=0.07129\n",
            "Epoch 98: W=0.51 b=0.66, loss=0.07029\n",
            "Epoch 99: W=0.51 b=0.67, loss=0.06933\n",
            "Epoch 100: W=0.51 b=0.67, loss=0.06842\n",
            "Epoch 101: W=0.50 b=0.68, loss=0.06756\n",
            "Epoch 102: W=0.50 b=0.69, loss=0.06673\n",
            "Epoch 103: W=0.50 b=0.69, loss=0.06594\n",
            "Epoch 104: W=0.50 b=0.70, loss=0.06519\n",
            "Epoch 105: W=0.49 b=0.70, loss=0.06448\n",
            "Epoch 106: W=0.49 b=0.70, loss=0.06380\n",
            "Epoch 107: W=0.49 b=0.71, loss=0.06315\n",
            "Epoch 108: W=0.49 b=0.71, loss=0.06253\n",
            "Epoch 109: W=0.48 b=0.72, loss=0.06194\n",
            "Epoch 110: W=0.48 b=0.72, loss=0.06138\n",
            "Epoch 111: W=0.48 b=0.73, loss=0.06085\n",
            "Epoch 112: W=0.48 b=0.73, loss=0.06034\n",
            "Epoch 113: W=0.48 b=0.74, loss=0.05985\n",
            "Epoch 114: W=0.48 b=0.74, loss=0.05939\n",
            "Epoch 115: W=0.47 b=0.74, loss=0.05895\n",
            "Epoch 116: W=0.47 b=0.75, loss=0.05852\n",
            "Epoch 117: W=0.47 b=0.75, loss=0.05812\n",
            "Epoch 118: W=0.47 b=0.75, loss=0.05774\n",
            "Epoch 119: W=0.47 b=0.76, loss=0.05738\n",
            "Epoch 120: W=0.47 b=0.76, loss=0.05703\n",
            "Epoch 121: W=0.46 b=0.76, loss=0.05670\n",
            "Epoch 122: W=0.46 b=0.77, loss=0.05638\n",
            "Epoch 123: W=0.46 b=0.77, loss=0.05608\n",
            "Epoch 124: W=0.46 b=0.77, loss=0.05580\n",
            "Epoch 125: W=0.46 b=0.78, loss=0.05553\n",
            "Epoch 126: W=0.46 b=0.78, loss=0.05527\n",
            "Epoch 127: W=0.46 b=0.78, loss=0.05502\n",
            "Epoch 128: W=0.45 b=0.79, loss=0.05478\n",
            "Epoch 129: W=0.45 b=0.79, loss=0.05456\n",
            "Epoch 130: W=0.45 b=0.79, loss=0.05434\n",
            "Epoch 131: W=0.45 b=0.79, loss=0.05414\n",
            "Epoch 132: W=0.45 b=0.80, loss=0.05394\n",
            "Epoch 133: W=0.45 b=0.80, loss=0.05376\n",
            "Epoch 134: W=0.45 b=0.80, loss=0.05358\n",
            "Epoch 135: W=0.45 b=0.80, loss=0.05341\n",
            "Epoch 136: W=0.44 b=0.81, loss=0.05325\n",
            "Epoch 137: W=0.44 b=0.81, loss=0.05310\n",
            "Epoch 138: W=0.44 b=0.81, loss=0.05295\n",
            "Epoch 139: W=0.44 b=0.81, loss=0.05282\n",
            "Epoch 140: W=0.44 b=0.81, loss=0.05268\n",
            "Epoch 141: W=0.44 b=0.82, loss=0.05256\n",
            "Epoch 142: W=0.44 b=0.82, loss=0.05244\n",
            "Epoch 143: W=0.44 b=0.82, loss=0.05232\n",
            "Epoch 144: W=0.44 b=0.82, loss=0.05221\n",
            "Epoch 145: W=0.44 b=0.82, loss=0.05211\n",
            "Epoch 146: W=0.43 b=0.83, loss=0.05201\n",
            "Epoch 147: W=0.43 b=0.83, loss=0.05192\n",
            "Epoch 148: W=0.43 b=0.83, loss=0.05183\n",
            "Epoch 149: W=0.43 b=0.83, loss=0.05174\n",
            "Epoch 150: W=0.43 b=0.83, loss=0.05166\n",
            "Epoch 151: W=0.43 b=0.83, loss=0.05158\n",
            "Epoch 152: W=0.43 b=0.84, loss=0.05151\n",
            "Epoch 153: W=0.43 b=0.84, loss=0.05143\n",
            "Epoch 154: W=0.43 b=0.84, loss=0.05137\n",
            "Epoch 155: W=0.43 b=0.84, loss=0.05130\n",
            "Epoch 156: W=0.43 b=0.84, loss=0.05124\n",
            "Epoch 157: W=0.43 b=0.84, loss=0.05118\n",
            "Epoch 158: W=0.43 b=0.84, loss=0.05113\n",
            "Epoch 159: W=0.43 b=0.85, loss=0.05107\n",
            "Epoch 160: W=0.42 b=0.85, loss=0.05102\n",
            "Epoch 161: W=0.42 b=0.85, loss=0.05098\n",
            "Epoch 162: W=0.42 b=0.85, loss=0.05093\n",
            "Epoch 163: W=0.42 b=0.85, loss=0.05089\n",
            "Epoch 164: W=0.42 b=0.85, loss=0.05084\n",
            "Epoch 165: W=0.42 b=0.85, loss=0.05080\n",
            "Epoch 166: W=0.42 b=0.85, loss=0.05077\n",
            "Epoch 167: W=0.42 b=0.86, loss=0.05073\n",
            "Epoch 168: W=0.42 b=0.86, loss=0.05070\n",
            "Epoch 169: W=0.42 b=0.86, loss=0.05066\n",
            "Epoch 170: W=0.42 b=0.86, loss=0.05063\n",
            "Epoch 171: W=0.42 b=0.86, loss=0.05060\n",
            "Epoch 172: W=0.42 b=0.86, loss=0.05057\n",
            "Epoch 173: W=0.42 b=0.86, loss=0.05055\n",
            "Epoch 174: W=0.42 b=0.86, loss=0.05052\n",
            "Epoch 175: W=0.42 b=0.86, loss=0.05050\n",
            "Epoch 176: W=0.42 b=0.86, loss=0.05047\n",
            "Epoch 177: W=0.42 b=0.86, loss=0.05045\n",
            "Epoch 178: W=0.42 b=0.87, loss=0.05043\n",
            "Epoch 179: W=0.42 b=0.87, loss=0.05041\n",
            "Epoch 180: W=0.42 b=0.87, loss=0.05039\n",
            "Epoch 181: W=0.42 b=0.87, loss=0.05037\n",
            "Epoch 182: W=0.41 b=0.87, loss=0.05035\n",
            "Epoch 183: W=0.41 b=0.87, loss=0.05034\n",
            "Epoch 184: W=0.41 b=0.87, loss=0.05032\n",
            "Epoch 185: W=0.41 b=0.87, loss=0.05031\n",
            "Epoch 186: W=0.41 b=0.87, loss=0.05029\n",
            "Epoch 187: W=0.41 b=0.87, loss=0.05028\n",
            "Epoch 188: W=0.41 b=0.87, loss=0.05027\n",
            "Epoch 189: W=0.41 b=0.87, loss=0.05025\n",
            "Epoch 190: W=0.41 b=0.87, loss=0.05024\n",
            "Epoch 191: W=0.41 b=0.87, loss=0.05023\n",
            "Epoch 192: W=0.41 b=0.88, loss=0.05022\n",
            "Epoch 193: W=0.41 b=0.88, loss=0.05021\n",
            "Epoch 194: W=0.41 b=0.88, loss=0.05020\n",
            "Epoch 195: W=0.41 b=0.88, loss=0.05019\n",
            "Epoch 196: W=0.41 b=0.88, loss=0.05018\n",
            "Epoch 197: W=0.41 b=0.88, loss=0.05017\n",
            "Epoch 198: W=0.41 b=0.88, loss=0.05016\n",
            "Epoch 199: W=0.41 b=0.88, loss=0.05016\n"
          ],
          "name": "stdout"
        },
        {
          "output_type": "display_data",
          "data": {
            "image/png": "[encoded data removed]",
            "text/plain": [
              "<matplotlib.figure.Figure at 0x7f2fb4fdfc50>"
            ]
          },
          "metadata": {
            "tags": []
          }
        }
      ]
    },
    {
      "metadata": {
        "id": "7ZU--_OduLnM",
        "colab_type": "text"
      },
      "cell_type": "markdown",
      "source": [
        "The array and the graph converged to $$W=.4 \\\\ b=.9$$\n",
        "This signifies that the equation of least squares is $$y=.4x+.9$$"
      ]
    }
  ]
}